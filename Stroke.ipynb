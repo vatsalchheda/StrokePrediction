{
 "cells": [
  {
   "cell_type": "code",
   "execution_count": 2,
   "metadata": {},
   "outputs": [],
   "source": [
    "import pandas as pd\n",
    "import numpy as np\n",
    "import seaborn as sns\n",
    "import matplotlib.pyplot as plt\n",
    "%matplotlib inline"
   ]
  },
  {
   "cell_type": "code",
   "execution_count": 3,
   "metadata": {},
   "outputs": [
    {
     "data": {
      "text/html": [
       "<div>\n",
       "<style scoped>\n",
       "    .dataframe tbody tr th:only-of-type {\n",
       "        vertical-align: middle;\n",
       "    }\n",
       "\n",
       "    .dataframe tbody tr th {\n",
       "        vertical-align: top;\n",
       "    }\n",
       "\n",
       "    .dataframe thead th {\n",
       "        text-align: right;\n",
       "    }\n",
       "</style>\n",
       "<table border=\"1\" class=\"dataframe\">\n",
       "  <thead>\n",
       "    <tr style=\"text-align: right;\">\n",
       "      <th></th>\n",
       "      <th>id</th>\n",
       "      <th>age</th>\n",
       "      <th>hypertension</th>\n",
       "      <th>heart_disease</th>\n",
       "      <th>avg_glucose_level</th>\n",
       "      <th>bmi</th>\n",
       "      <th>stroke</th>\n",
       "    </tr>\n",
       "  </thead>\n",
       "  <tbody>\n",
       "    <tr>\n",
       "      <th>count</th>\n",
       "      <td>5110.000000</td>\n",
       "      <td>5110.000000</td>\n",
       "      <td>5110.000000</td>\n",
       "      <td>5110.000000</td>\n",
       "      <td>5110.000000</td>\n",
       "      <td>4909.000000</td>\n",
       "      <td>5110.000000</td>\n",
       "    </tr>\n",
       "    <tr>\n",
       "      <th>mean</th>\n",
       "      <td>36517.829354</td>\n",
       "      <td>43.226614</td>\n",
       "      <td>0.097456</td>\n",
       "      <td>0.054012</td>\n",
       "      <td>106.147677</td>\n",
       "      <td>28.893237</td>\n",
       "      <td>0.048728</td>\n",
       "    </tr>\n",
       "    <tr>\n",
       "      <th>std</th>\n",
       "      <td>21161.721625</td>\n",
       "      <td>22.612647</td>\n",
       "      <td>0.296607</td>\n",
       "      <td>0.226063</td>\n",
       "      <td>45.283560</td>\n",
       "      <td>7.854067</td>\n",
       "      <td>0.215320</td>\n",
       "    </tr>\n",
       "    <tr>\n",
       "      <th>min</th>\n",
       "      <td>67.000000</td>\n",
       "      <td>0.080000</td>\n",
       "      <td>0.000000</td>\n",
       "      <td>0.000000</td>\n",
       "      <td>55.120000</td>\n",
       "      <td>10.300000</td>\n",
       "      <td>0.000000</td>\n",
       "    </tr>\n",
       "    <tr>\n",
       "      <th>25%</th>\n",
       "      <td>17741.250000</td>\n",
       "      <td>25.000000</td>\n",
       "      <td>0.000000</td>\n",
       "      <td>0.000000</td>\n",
       "      <td>77.245000</td>\n",
       "      <td>23.500000</td>\n",
       "      <td>0.000000</td>\n",
       "    </tr>\n",
       "    <tr>\n",
       "      <th>50%</th>\n",
       "      <td>36932.000000</td>\n",
       "      <td>45.000000</td>\n",
       "      <td>0.000000</td>\n",
       "      <td>0.000000</td>\n",
       "      <td>91.885000</td>\n",
       "      <td>28.100000</td>\n",
       "      <td>0.000000</td>\n",
       "    </tr>\n",
       "    <tr>\n",
       "      <th>75%</th>\n",
       "      <td>54682.000000</td>\n",
       "      <td>61.000000</td>\n",
       "      <td>0.000000</td>\n",
       "      <td>0.000000</td>\n",
       "      <td>114.090000</td>\n",
       "      <td>33.100000</td>\n",
       "      <td>0.000000</td>\n",
       "    </tr>\n",
       "    <tr>\n",
       "      <th>max</th>\n",
       "      <td>72940.000000</td>\n",
       "      <td>82.000000</td>\n",
       "      <td>1.000000</td>\n",
       "      <td>1.000000</td>\n",
       "      <td>271.740000</td>\n",
       "      <td>97.600000</td>\n",
       "      <td>1.000000</td>\n",
       "    </tr>\n",
       "  </tbody>\n",
       "</table>\n",
       "</div>"
      ],
      "text/plain": [
       "                 id          age  hypertension  heart_disease  \\\n",
       "count   5110.000000  5110.000000   5110.000000    5110.000000   \n",
       "mean   36517.829354    43.226614      0.097456       0.054012   \n",
       "std    21161.721625    22.612647      0.296607       0.226063   \n",
       "min       67.000000     0.080000      0.000000       0.000000   \n",
       "25%    17741.250000    25.000000      0.000000       0.000000   \n",
       "50%    36932.000000    45.000000      0.000000       0.000000   \n",
       "75%    54682.000000    61.000000      0.000000       0.000000   \n",
       "max    72940.000000    82.000000      1.000000       1.000000   \n",
       "\n",
       "       avg_glucose_level          bmi       stroke  \n",
       "count        5110.000000  4909.000000  5110.000000  \n",
       "mean          106.147677    28.893237     0.048728  \n",
       "std            45.283560     7.854067     0.215320  \n",
       "min            55.120000    10.300000     0.000000  \n",
       "25%            77.245000    23.500000     0.000000  \n",
       "50%            91.885000    28.100000     0.000000  \n",
       "75%           114.090000    33.100000     0.000000  \n",
       "max           271.740000    97.600000     1.000000  "
      ]
     },
     "execution_count": 3,
     "metadata": {},
     "output_type": "execute_result"
    }
   ],
   "source": [
    "dataset = pd.read_csv('healthcare-dataset-stroke-data.csv')\n",
    "dataset.describe()"
   ]
  },
  {
   "cell_type": "markdown",
   "metadata": {},
   "source": [
    "\n",
    "# Data PreProcessing\n"
   ]
  },
  {
   "cell_type": "markdown",
   "metadata": {},
   "source": [
    "### Data Visualization"
   ]
  },
  {
   "cell_type": "code",
   "execution_count": 4,
   "metadata": {},
   "outputs": [
    {
     "data": {
      "text/html": [
       "<div>\n",
       "<style scoped>\n",
       "    .dataframe tbody tr th:only-of-type {\n",
       "        vertical-align: middle;\n",
       "    }\n",
       "\n",
       "    .dataframe tbody tr th {\n",
       "        vertical-align: top;\n",
       "    }\n",
       "\n",
       "    .dataframe thead th {\n",
       "        text-align: right;\n",
       "    }\n",
       "</style>\n",
       "<table border=\"1\" class=\"dataframe\">\n",
       "  <thead>\n",
       "    <tr style=\"text-align: right;\">\n",
       "      <th></th>\n",
       "      <th>id</th>\n",
       "      <th>gender</th>\n",
       "      <th>age</th>\n",
       "      <th>hypertension</th>\n",
       "      <th>heart_disease</th>\n",
       "      <th>ever_married</th>\n",
       "      <th>work_type</th>\n",
       "      <th>Residence_type</th>\n",
       "      <th>avg_glucose_level</th>\n",
       "      <th>bmi</th>\n",
       "      <th>smoking_status</th>\n",
       "      <th>stroke</th>\n",
       "    </tr>\n",
       "  </thead>\n",
       "  <tbody>\n",
       "    <tr>\n",
       "      <th>0</th>\n",
       "      <td>9046</td>\n",
       "      <td>Male</td>\n",
       "      <td>67.0</td>\n",
       "      <td>0</td>\n",
       "      <td>1</td>\n",
       "      <td>Yes</td>\n",
       "      <td>Private</td>\n",
       "      <td>Urban</td>\n",
       "      <td>228.69</td>\n",
       "      <td>36.6</td>\n",
       "      <td>formerly smoked</td>\n",
       "      <td>1</td>\n",
       "    </tr>\n",
       "    <tr>\n",
       "      <th>1</th>\n",
       "      <td>51676</td>\n",
       "      <td>Female</td>\n",
       "      <td>61.0</td>\n",
       "      <td>0</td>\n",
       "      <td>0</td>\n",
       "      <td>Yes</td>\n",
       "      <td>Self-employed</td>\n",
       "      <td>Rural</td>\n",
       "      <td>202.21</td>\n",
       "      <td>NaN</td>\n",
       "      <td>never smoked</td>\n",
       "      <td>1</td>\n",
       "    </tr>\n",
       "    <tr>\n",
       "      <th>2</th>\n",
       "      <td>31112</td>\n",
       "      <td>Male</td>\n",
       "      <td>80.0</td>\n",
       "      <td>0</td>\n",
       "      <td>1</td>\n",
       "      <td>Yes</td>\n",
       "      <td>Private</td>\n",
       "      <td>Rural</td>\n",
       "      <td>105.92</td>\n",
       "      <td>32.5</td>\n",
       "      <td>never smoked</td>\n",
       "      <td>1</td>\n",
       "    </tr>\n",
       "    <tr>\n",
       "      <th>3</th>\n",
       "      <td>60182</td>\n",
       "      <td>Female</td>\n",
       "      <td>49.0</td>\n",
       "      <td>0</td>\n",
       "      <td>0</td>\n",
       "      <td>Yes</td>\n",
       "      <td>Private</td>\n",
       "      <td>Urban</td>\n",
       "      <td>171.23</td>\n",
       "      <td>34.4</td>\n",
       "      <td>smokes</td>\n",
       "      <td>1</td>\n",
       "    </tr>\n",
       "    <tr>\n",
       "      <th>4</th>\n",
       "      <td>1665</td>\n",
       "      <td>Female</td>\n",
       "      <td>79.0</td>\n",
       "      <td>1</td>\n",
       "      <td>0</td>\n",
       "      <td>Yes</td>\n",
       "      <td>Self-employed</td>\n",
       "      <td>Rural</td>\n",
       "      <td>174.12</td>\n",
       "      <td>24.0</td>\n",
       "      <td>never smoked</td>\n",
       "      <td>1</td>\n",
       "    </tr>\n",
       "  </tbody>\n",
       "</table>\n",
       "</div>"
      ],
      "text/plain": [
       "      id  gender   age  hypertension  heart_disease ever_married  \\\n",
       "0   9046    Male  67.0             0              1          Yes   \n",
       "1  51676  Female  61.0             0              0          Yes   \n",
       "2  31112    Male  80.0             0              1          Yes   \n",
       "3  60182  Female  49.0             0              0          Yes   \n",
       "4   1665  Female  79.0             1              0          Yes   \n",
       "\n",
       "       work_type Residence_type  avg_glucose_level   bmi   smoking_status  \\\n",
       "0        Private          Urban             228.69  36.6  formerly smoked   \n",
       "1  Self-employed          Rural             202.21   NaN     never smoked   \n",
       "2        Private          Rural             105.92  32.5     never smoked   \n",
       "3        Private          Urban             171.23  34.4           smokes   \n",
       "4  Self-employed          Rural             174.12  24.0     never smoked   \n",
       "\n",
       "   stroke  \n",
       "0       1  \n",
       "1       1  \n",
       "2       1  \n",
       "3       1  \n",
       "4       1  "
      ]
     },
     "execution_count": 4,
     "metadata": {},
     "output_type": "execute_result"
    }
   ],
   "source": [
    "dataset.head()"
   ]
  },
  {
   "cell_type": "code",
   "execution_count": 5,
   "metadata": {},
   "outputs": [
    {
     "data": {
      "text/plain": [
       "Index(['id', 'gender', 'age', 'hypertension', 'heart_disease', 'ever_married',\n",
       "       'work_type', 'Residence_type', 'avg_glucose_level', 'bmi',\n",
       "       'smoking_status', 'stroke'],\n",
       "      dtype='object')"
      ]
     },
     "execution_count": 5,
     "metadata": {},
     "output_type": "execute_result"
    }
   ],
   "source": [
    "dataset.columns"
   ]
  },
  {
   "cell_type": "code",
   "execution_count": 6,
   "metadata": {},
   "outputs": [],
   "source": [
    "features =['gender','age','hypertension','heart_disease','ever_married','work_type','Residence_type','avg_glucose_level','bmi','smoking_status']\n",
    "X = dataset[features]\n",
    "Y = dataset['stroke']"
   ]
  },
  {
   "cell_type": "markdown",
   "metadata": {},
   "source": [
    "### Treating NaN, null Values"
   ]
  },
  {
   "cell_type": "code",
   "execution_count": 7,
   "metadata": {},
   "outputs": [
    {
     "data": {
      "text/plain": [
       "id                     0\n",
       "gender                 0\n",
       "age                    0\n",
       "hypertension           0\n",
       "heart_disease          0\n",
       "ever_married           0\n",
       "work_type              0\n",
       "Residence_type         0\n",
       "avg_glucose_level      0\n",
       "bmi                  201\n",
       "smoking_status         0\n",
       "stroke                 0\n",
       "dtype: int64"
      ]
     },
     "execution_count": 7,
     "metadata": {},
     "output_type": "execute_result"
    }
   ],
   "source": [
    "dataset.isnull().sum()"
   ]
  },
  {
   "cell_type": "code",
   "execution_count": 8,
   "metadata": {},
   "outputs": [
    {
     "name": "stdout",
     "output_type": "stream",
     "text": [
      "       bmi\n",
      "0     36.6\n",
      "1      NaN\n",
      "2     32.5\n",
      "3     34.4\n",
      "4     24.0\n",
      "...    ...\n",
      "5105   NaN\n",
      "5106  40.0\n",
      "5107  30.6\n",
      "5108  25.6\n",
      "5109  26.2\n",
      "\n",
      "[5110 rows x 1 columns]\n"
     ]
    }
   ],
   "source": [
    "print(X.iloc[:,8:9])"
   ]
  },
  {
   "cell_type": "code",
   "execution_count": 9,
   "metadata": {},
   "outputs": [
    {
     "name": "stdout",
     "output_type": "stream",
     "text": [
      "gender               0\n",
      "age                  0\n",
      "hypertension         0\n",
      "heart_disease        0\n",
      "ever_married         0\n",
      "work_type            0\n",
      "Residence_type       0\n",
      "avg_glucose_level    0\n",
      "bmi                  0\n",
      "smoking_status       0\n",
      "dtype: int64\n"
     ]
    },
    {
     "name": "stderr",
     "output_type": "stream",
     "text": [
      "C:\\ProgramData\\Anaconda3\\lib\\site-packages\\pandas\\core\\indexing.py:1738: SettingWithCopyWarning: \n",
      "A value is trying to be set on a copy of a slice from a DataFrame.\n",
      "Try using .loc[row_indexer,col_indexer] = value instead\n",
      "\n",
      "See the caveats in the documentation: https://pandas.pydata.org/pandas-docs/stable/user_guide/indexing.html#returning-a-view-versus-a-copy\n",
      "  self._setitem_single_column(loc, value[:, i].tolist(), pi)\n"
     ]
    }
   ],
   "source": [
    "# Replacing Null Numeric vals\n",
    "\n",
    "from sklearn.impute import SimpleImputer\n",
    "imputer = SimpleImputer(missing_values=np.nan, strategy = 'mean')\n",
    "imputer.fit(X.iloc[:,8:9])\n",
    "X.iloc[:,8:9] = imputer.transform(X.iloc[:,8:9])\n",
    "print(X.isnull().sum())"
   ]
  },
  {
   "cell_type": "code",
   "execution_count": 10,
   "metadata": {},
   "outputs": [
    {
     "data": {
      "image/png": "[encoded data removed]",
      "text/plain": [
       "<Figure size 864x576 with 2 Axes>"
      ]
     },
     "metadata": {
      "needs_background": "light"
     },
     "output_type": "display_data"
    }
   ],
   "source": [
    "# dropping the rows having NaN values \n",
    "# df = pd.DataFrame(X)   \n",
    "# df = df.dropna()   \n",
    "# print(df)\n",
    "plt.figure(figsize = (12, 8))\n",
    "sns.heatmap(dataset.corr(), linecolor = 'white', linewidths = 1, annot = True)\n",
    "plt.show()"
   ]
  },
  {
   "cell_type": "code",
   "execution_count": 11,
   "metadata": {},
   "outputs": [
    {
     "data": {
      "text/plain": [
       "Female    2994\n",
       "Male      2115\n",
       "Other        1\n",
       "Name: gender, dtype: int64"
      ]
     },
     "execution_count": 11,
     "metadata": {},
     "output_type": "execute_result"
    }
   ],
   "source": [
    "X['gender'].value_counts()"
   ]
  },
  {
   "cell_type": "code",
   "execution_count": 12,
   "metadata": {},
   "outputs": [
    {
     "data": {
      "text/plain": [
       "0    4861\n",
       "1    4861\n",
       "Name: stroke, dtype: int64"
      ]
     },
     "execution_count": 12,
     "metadata": {},
     "output_type": "execute_result"
    }
   ],
   "source": [
    "from sklearn.utils import resample\n",
    "\n",
    "train_data = pd.concat([X, Y], axis=1)\n",
    "# separate minority and majority classes\n",
    "negative = train_data[train_data.stroke==0]\n",
    "positive = train_data[train_data.stroke==1]\n",
    "# upsample minority\n",
    "pos_upsampled = resample(positive,\n",
    " replace=True, # sample with replacement\n",
    " n_samples=len(negative), # match number in majority class\n",
    " random_state=27) # reproducible results\n",
    "# combine majority and upsampled minority\n",
    "upsampled = pd.concat([negative, pos_upsampled])\n",
    "# check new class counts\n",
    "upsampled.stroke.value_counts()\n"
   ]
  },
  {
   "cell_type": "code",
   "execution_count": 13,
   "metadata": {},
   "outputs": [
    {
     "name": "stdout",
     "output_type": "stream",
     "text": [
      "     gender   age  hypertension  heart_disease ever_married      work_type  \\\n",
      "249    Male   3.0             0              0           No       children   \n",
      "250    Male  58.0             1              0          Yes        Private   \n",
      "251  Female   8.0             0              0           No        Private   \n",
      "252  Female  70.0             0              0          Yes        Private   \n",
      "253    Male  14.0             0              0           No   Never_worked   \n",
      "..      ...   ...           ...            ...          ...            ...   \n",
      "136    Male  76.0             0              0          Yes        Private   \n",
      "134  Female  68.0             1              0          Yes  Self-employed   \n",
      "192    Male  59.0             0              0          Yes  Self-employed   \n",
      "177    Male  78.0             1              0          Yes  Self-employed   \n",
      "163  Female  78.0             1              0           No        Private   \n",
      "\n",
      "    Residence_type  avg_glucose_level   bmi   smoking_status  \n",
      "249          Rural              95.12  18.0          Unknown  \n",
      "250          Urban              87.96  39.2     never smoked  \n",
      "251          Urban             110.89  17.6          Unknown  \n",
      "252          Rural              69.04  35.9  formerly smoked  \n",
      "253          Rural             161.28  19.1          Unknown  \n",
      "..             ...                ...   ...              ...  \n",
      "136          Urban             140.10  29.9  formerly smoked  \n",
      "134          Rural             206.09  26.7     never smoked  \n",
      "192          Rural             118.03  35.5           smokes  \n",
      "177          Rural              56.11  25.5  formerly smoked  \n",
      "163          Urban             203.87  45.7     never smoked  \n",
      "\n",
      "[9722 rows x 10 columns]      stroke\n",
      "249       0\n",
      "250       0\n",
      "251       0\n",
      "252       0\n",
      "253       0\n",
      "..      ...\n",
      "136       1\n",
      "134       1\n",
      "192       1\n",
      "177       1\n",
      "163       1\n",
      "\n",
      "[9722 rows x 1 columns]\n"
     ]
    }
   ],
   "source": [
    "X = upsampled.iloc[:, 0:10]\n",
    "Y = upsampled.iloc[:,10:11]\n",
    "# del X_train['stroke']\n",
    "print(X,Y)"
   ]
  },
  {
   "cell_type": "markdown",
   "metadata": {},
   "source": [
    "### Treating Categorical Variables\n"
   ]
  },
  {
   "cell_type": "code",
   "execution_count": 14,
   "metadata": {},
   "outputs": [
    {
     "name": "stdout",
     "output_type": "stream",
     "text": [
      "Column Name: gender\n",
      "Female    5622\n",
      "Male      4099\n",
      "Other        1\n",
      "Name: gender, dtype: int64\n",
      "Column Name: ever_married\n",
      "Yes    7429\n",
      "No     2293\n",
      "Name: ever_married, dtype: int64\n",
      "Column Name: work_type\n",
      "Private          5658\n",
      "Self-employed    2026\n",
      "Govt_job         1290\n",
      "children          726\n",
      "Never_worked       22\n",
      "Name: work_type, dtype: int64\n",
      "Column Name: Residence_type\n",
      "Urban    5141\n",
      "Rural    4581\n",
      "Name: Residence_type, dtype: int64\n",
      "Column Name: smoking_status\n",
      "never smoked       3509\n",
      "Unknown            2436\n",
      "formerly smoked    2164\n",
      "smokes             1613\n",
      "Name: smoking_status, dtype: int64\n"
     ]
    }
   ],
   "source": [
    "X.dtypes\n",
    "Categorical_cols = ['gender','ever_married','work_type','Residence_type','smoking_status']\n",
    "for col in Categorical_cols:\n",
    "    print('Column Name: ' +col)\n",
    "    print(X[col].value_counts())"
   ]
  },
  {
   "cell_type": "code",
   "execution_count": 15,
   "metadata": {},
   "outputs": [],
   "source": [
    "# Treating Independent Varibles\n",
    "\n",
    "\n",
    "# from sklearn.compose import ColumnTransformer\n",
    "# from sklearn.preprocessing import OneHotEncoder\n",
    "# ct = ColumnTransformer(transformers = [('encoder', OneHotEncoder(), [0])], remainder = 'passthrough')\n",
    "# df = np.array(ct.fit_transform(df))\n",
    "\n",
    "                    #OR\n",
    "\n",
    "from sklearn.preprocessing import OneHotEncoder\n",
    "\n",
    "# Apply one-hot encoder to each column with categorical data\n",
    "OH_encoder = OneHotEncoder(handle_unknown='ignore', sparse=False)\n",
    "X_encoded = pd.DataFrame(OH_encoder.fit_transform(X[Categorical_cols]))\n",
    "\n",
    "# One-hot encoding removed index; put it back\n",
    "X_encoded.index = X.index\n",
    "\n",
    "# Remove categorical columns (will replace with one-hot encoding)\n",
    "num_X = X.drop(Categorical_cols, axis=1)\n",
    "\n",
    "# Add one-hot encoded columns to numerical features\n",
    "OH_X = pd.concat([num_X, X_encoded], axis=1)"
   ]
  },
  {
   "cell_type": "code",
   "execution_count": 16,
   "metadata": {},
   "outputs": [
    {
     "name": "stdout",
     "output_type": "stream",
     "text": [
      "      age  hypertension  heart_disease  avg_glucose_level   bmi    0    1  \\\n",
      "249   3.0             0              0              95.12  18.0  0.0  1.0   \n",
      "250  58.0             1              0              87.96  39.2  0.0  1.0   \n",
      "251   8.0             0              0             110.89  17.6  1.0  0.0   \n",
      "252  70.0             0              0              69.04  35.9  1.0  0.0   \n",
      "253  14.0             0              0             161.28  19.1  0.0  1.0   \n",
      "..    ...           ...            ...                ...   ...  ...  ...   \n",
      "136  76.0             0              0             140.10  29.9  0.0  1.0   \n",
      "134  68.0             1              0             206.09  26.7  1.0  0.0   \n",
      "192  59.0             0              0             118.03  35.5  0.0  1.0   \n",
      "177  78.0             1              0              56.11  25.5  0.0  1.0   \n",
      "163  78.0             1              0             203.87  45.7  1.0  0.0   \n",
      "\n",
      "       2    3    4  ...    6    7    8    9   10   11   12   13   14   15  \n",
      "249  0.0  1.0  0.0  ...  0.0  0.0  0.0  1.0  1.0  0.0  1.0  0.0  0.0  0.0  \n",
      "250  0.0  0.0  1.0  ...  0.0  1.0  0.0  0.0  0.0  1.0  0.0  0.0  1.0  0.0  \n",
      "251  0.0  1.0  0.0  ...  0.0  1.0  0.0  0.0  0.0  1.0  1.0  0.0  0.0  0.0  \n",
      "252  0.0  0.0  1.0  ...  0.0  1.0  0.0  0.0  1.0  0.0  0.0  1.0  0.0  0.0  \n",
      "253  0.0  1.0  0.0  ...  1.0  0.0  0.0  0.0  1.0  0.0  1.0  0.0  0.0  0.0  \n",
      "..   ...  ...  ...  ...  ...  ...  ...  ...  ...  ...  ...  ...  ...  ...  \n",
      "136  0.0  0.0  1.0  ...  0.0  1.0  0.0  0.0  0.0  1.0  0.0  1.0  0.0  0.0  \n",
      "134  0.0  0.0  1.0  ...  0.0  0.0  1.0  0.0  1.0  0.0  0.0  0.0  1.0  0.0  \n",
      "192  0.0  0.0  1.0  ...  0.0  0.0  1.0  0.0  1.0  0.0  0.0  0.0  0.0  1.0  \n",
      "177  0.0  0.0  1.0  ...  0.0  0.0  1.0  0.0  1.0  0.0  0.0  1.0  0.0  0.0  \n",
      "163  0.0  1.0  0.0  ...  0.0  1.0  0.0  0.0  0.0  1.0  0.0  0.0  1.0  0.0  \n",
      "\n",
      "[9722 rows x 21 columns]\n"
     ]
    }
   ],
   "source": [
    "print(OH_X)"
   ]
  },
  {
   "cell_type": "code",
   "execution_count": 17,
   "metadata": {},
   "outputs": [
    {
     "data": {
      "text/html": [
       "<div>\n",
       "<style scoped>\n",
       "    .dataframe tbody tr th:only-of-type {\n",
       "        vertical-align: middle;\n",
       "    }\n",
       "\n",
       "    .dataframe tbody tr th {\n",
       "        vertical-align: top;\n",
       "    }\n",
       "\n",
       "    .dataframe thead th {\n",
       "        text-align: right;\n",
       "    }\n",
       "</style>\n",
       "<table border=\"1\" class=\"dataframe\">\n",
       "  <thead>\n",
       "    <tr style=\"text-align: right;\">\n",
       "      <th></th>\n",
       "      <th>age</th>\n",
       "      <th>hypertension</th>\n",
       "      <th>heart_disease</th>\n",
       "      <th>avg_glucose_level</th>\n",
       "      <th>bmi</th>\n",
       "      <th>0</th>\n",
       "      <th>1</th>\n",
       "      <th>2</th>\n",
       "      <th>3</th>\n",
       "      <th>4</th>\n",
       "      <th>...</th>\n",
       "      <th>6</th>\n",
       "      <th>7</th>\n",
       "      <th>8</th>\n",
       "      <th>9</th>\n",
       "      <th>10</th>\n",
       "      <th>11</th>\n",
       "      <th>12</th>\n",
       "      <th>13</th>\n",
       "      <th>14</th>\n",
       "      <th>15</th>\n",
       "    </tr>\n",
       "  </thead>\n",
       "  <tbody>\n",
       "    <tr>\n",
       "      <th>count</th>\n",
       "      <td>9722.000000</td>\n",
       "      <td>9722.000000</td>\n",
       "      <td>9722.000000</td>\n",
       "      <td>9722.000000</td>\n",
       "      <td>9722.000000</td>\n",
       "      <td>9722.000000</td>\n",
       "      <td>9722.000000</td>\n",
       "      <td>9722.000000</td>\n",
       "      <td>9722.000000</td>\n",
       "      <td>9722.000000</td>\n",
       "      <td>...</td>\n",
       "      <td>9722.000000</td>\n",
       "      <td>9722.000000</td>\n",
       "      <td>9722.000000</td>\n",
       "      <td>9722.000000</td>\n",
       "      <td>9722.000000</td>\n",
       "      <td>9722.000000</td>\n",
       "      <td>9722.000000</td>\n",
       "      <td>9722.000000</td>\n",
       "      <td>9722.000000</td>\n",
       "      <td>9722.000000</td>\n",
       "    </tr>\n",
       "    <tr>\n",
       "      <th>mean</th>\n",
       "      <td>54.714779</td>\n",
       "      <td>0.172907</td>\n",
       "      <td>0.119420</td>\n",
       "      <td>118.435626</td>\n",
       "      <td>29.501449</td>\n",
       "      <td>0.578276</td>\n",
       "      <td>0.421621</td>\n",
       "      <td>0.000103</td>\n",
       "      <td>0.235857</td>\n",
       "      <td>0.764143</td>\n",
       "      <td>...</td>\n",
       "      <td>0.002263</td>\n",
       "      <td>0.581979</td>\n",
       "      <td>0.208393</td>\n",
       "      <td>0.074676</td>\n",
       "      <td>0.471199</td>\n",
       "      <td>0.528801</td>\n",
       "      <td>0.250566</td>\n",
       "      <td>0.222588</td>\n",
       "      <td>0.360934</td>\n",
       "      <td>0.165912</td>\n",
       "    </tr>\n",
       "    <tr>\n",
       "      <th>std</th>\n",
       "      <td>22.197535</td>\n",
       "      <td>0.378186</td>\n",
       "      <td>0.324299</td>\n",
       "      <td>55.172529</td>\n",
       "      <td>6.851014</td>\n",
       "      <td>0.493860</td>\n",
       "      <td>0.493844</td>\n",
       "      <td>0.010142</td>\n",
       "      <td>0.424555</td>\n",
       "      <td>0.424555</td>\n",
       "      <td>...</td>\n",
       "      <td>0.047519</td>\n",
       "      <td>0.493259</td>\n",
       "      <td>0.406180</td>\n",
       "      <td>0.262881</td>\n",
       "      <td>0.499196</td>\n",
       "      <td>0.499196</td>\n",
       "      <td>0.433361</td>\n",
       "      <td>0.416005</td>\n",
       "      <td>0.480296</td>\n",
       "      <td>0.372021</td>\n",
       "    </tr>\n",
       "    <tr>\n",
       "      <th>min</th>\n",
       "      <td>0.080000</td>\n",
       "      <td>0.000000</td>\n",
       "      <td>0.000000</td>\n",
       "      <td>55.120000</td>\n",
       "      <td>10.300000</td>\n",
       "      <td>0.000000</td>\n",
       "      <td>0.000000</td>\n",
       "      <td>0.000000</td>\n",
       "      <td>0.000000</td>\n",
       "      <td>0.000000</td>\n",
       "      <td>...</td>\n",
       "      <td>0.000000</td>\n",
       "      <td>0.000000</td>\n",
       "      <td>0.000000</td>\n",
       "      <td>0.000000</td>\n",
       "      <td>0.000000</td>\n",
       "      <td>0.000000</td>\n",
       "      <td>0.000000</td>\n",
       "      <td>0.000000</td>\n",
       "      <td>0.000000</td>\n",
       "      <td>0.000000</td>\n",
       "    </tr>\n",
       "    <tr>\n",
       "      <th>25%</th>\n",
       "      <td>41.000000</td>\n",
       "      <td>0.000000</td>\n",
       "      <td>0.000000</td>\n",
       "      <td>78.040000</td>\n",
       "      <td>25.400000</td>\n",
       "      <td>0.000000</td>\n",
       "      <td>0.000000</td>\n",
       "      <td>0.000000</td>\n",
       "      <td>0.000000</td>\n",
       "      <td>1.000000</td>\n",
       "      <td>...</td>\n",
       "      <td>0.000000</td>\n",
       "      <td>0.000000</td>\n",
       "      <td>0.000000</td>\n",
       "      <td>0.000000</td>\n",
       "      <td>0.000000</td>\n",
       "      <td>0.000000</td>\n",
       "      <td>0.000000</td>\n",
       "      <td>0.000000</td>\n",
       "      <td>0.000000</td>\n",
       "      <td>0.000000</td>\n",
       "    </tr>\n",
       "    <tr>\n",
       "      <th>50%</th>\n",
       "      <td>59.000000</td>\n",
       "      <td>0.000000</td>\n",
       "      <td>0.000000</td>\n",
       "      <td>96.895000</td>\n",
       "      <td>28.893237</td>\n",
       "      <td>1.000000</td>\n",
       "      <td>0.000000</td>\n",
       "      <td>0.000000</td>\n",
       "      <td>0.000000</td>\n",
       "      <td>1.000000</td>\n",
       "      <td>...</td>\n",
       "      <td>0.000000</td>\n",
       "      <td>1.000000</td>\n",
       "      <td>0.000000</td>\n",
       "      <td>0.000000</td>\n",
       "      <td>0.000000</td>\n",
       "      <td>1.000000</td>\n",
       "      <td>0.000000</td>\n",
       "      <td>0.000000</td>\n",
       "      <td>0.000000</td>\n",
       "      <td>0.000000</td>\n",
       "    </tr>\n",
       "    <tr>\n",
       "      <th>75%</th>\n",
       "      <td>74.000000</td>\n",
       "      <td>0.000000</td>\n",
       "      <td>0.000000</td>\n",
       "      <td>144.900000</td>\n",
       "      <td>32.500000</td>\n",
       "      <td>1.000000</td>\n",
       "      <td>1.000000</td>\n",
       "      <td>0.000000</td>\n",
       "      <td>0.000000</td>\n",
       "      <td>1.000000</td>\n",
       "      <td>...</td>\n",
       "      <td>0.000000</td>\n",
       "      <td>1.000000</td>\n",
       "      <td>0.000000</td>\n",
       "      <td>0.000000</td>\n",
       "      <td>1.000000</td>\n",
       "      <td>1.000000</td>\n",
       "      <td>1.000000</td>\n",
       "      <td>0.000000</td>\n",
       "      <td>1.000000</td>\n",
       "      <td>0.000000</td>\n",
       "    </tr>\n",
       "    <tr>\n",
       "      <th>max</th>\n",
       "      <td>82.000000</td>\n",
       "      <td>1.000000</td>\n",
       "      <td>1.000000</td>\n",
       "      <td>271.740000</td>\n",
       "      <td>97.600000</td>\n",
       "      <td>1.000000</td>\n",
       "      <td>1.000000</td>\n",
       "      <td>1.000000</td>\n",
       "      <td>1.000000</td>\n",
       "      <td>1.000000</td>\n",
       "      <td>...</td>\n",
       "      <td>1.000000</td>\n",
       "      <td>1.000000</td>\n",
       "      <td>1.000000</td>\n",
       "      <td>1.000000</td>\n",
       "      <td>1.000000</td>\n",
       "      <td>1.000000</td>\n",
       "      <td>1.000000</td>\n",
       "      <td>1.000000</td>\n",
       "      <td>1.000000</td>\n",
       "      <td>1.000000</td>\n",
       "    </tr>\n",
       "  </tbody>\n",
       "</table>\n",
       "<p>8 rows × 21 columns</p>\n",
       "</div>"
      ],
      "text/plain": [
       "               age  hypertension  heart_disease  avg_glucose_level  \\\n",
       "count  9722.000000   9722.000000    9722.000000        9722.000000   \n",
       "mean     54.714779      0.172907       0.119420         118.435626   \n",
       "std      22.197535      0.378186       0.324299          55.172529   \n",
       "min       0.080000      0.000000       0.000000          55.120000   \n",
       "25%      41.000000      0.000000       0.000000          78.040000   \n",
       "50%      59.000000      0.000000       0.000000          96.895000   \n",
       "75%      74.000000      0.000000       0.000000         144.900000   \n",
       "max      82.000000      1.000000       1.000000         271.740000   \n",
       "\n",
       "               bmi            0            1            2            3  \\\n",
       "count  9722.000000  9722.000000  9722.000000  9722.000000  9722.000000   \n",
       "mean     29.501449     0.578276     0.421621     0.000103     0.235857   \n",
       "std       6.851014     0.493860     0.493844     0.010142     0.424555   \n",
       "min      10.300000     0.000000     0.000000     0.000000     0.000000   \n",
       "25%      25.400000     0.000000     0.000000     0.000000     0.000000   \n",
       "50%      28.893237     1.000000     0.000000     0.000000     0.000000   \n",
       "75%      32.500000     1.000000     1.000000     0.000000     0.000000   \n",
       "max      97.600000     1.000000     1.000000     1.000000     1.000000   \n",
       "\n",
       "                 4  ...            6            7            8            9  \\\n",
       "count  9722.000000  ...  9722.000000  9722.000000  9722.000000  9722.000000   \n",
       "mean      0.764143  ...     0.002263     0.581979     0.208393     0.074676   \n",
       "std       0.424555  ...     0.047519     0.493259     0.406180     0.262881   \n",
       "min       0.000000  ...     0.000000     0.000000     0.000000     0.000000   \n",
       "25%       1.000000  ...     0.000000     0.000000     0.000000     0.000000   \n",
       "50%       1.000000  ...     0.000000     1.000000     0.000000     0.000000   \n",
       "75%       1.000000  ...     0.000000     1.000000     0.000000     0.000000   \n",
       "max       1.000000  ...     1.000000     1.000000     1.000000     1.000000   \n",
       "\n",
       "                10           11           12           13           14  \\\n",
       "count  9722.000000  9722.000000  9722.000000  9722.000000  9722.000000   \n",
       "mean      0.471199     0.528801     0.250566     0.222588     0.360934   \n",
       "std       0.499196     0.499196     0.433361     0.416005     0.480296   \n",
       "min       0.000000     0.000000     0.000000     0.000000     0.000000   \n",
       "25%       0.000000     0.000000     0.000000     0.000000     0.000000   \n",
       "50%       0.000000     1.000000     0.000000     0.000000     0.000000   \n",
       "75%       1.000000     1.000000     1.000000     0.000000     1.000000   \n",
       "max       1.000000     1.000000     1.000000     1.000000     1.000000   \n",
       "\n",
       "                15  \n",
       "count  9722.000000  \n",
       "mean      0.165912  \n",
       "std       0.372021  \n",
       "min       0.000000  \n",
       "25%       0.000000  \n",
       "50%       0.000000  \n",
       "75%       0.000000  \n",
       "max       1.000000  \n",
       "\n",
       "[8 rows x 21 columns]"
      ]
     },
     "execution_count": 17,
     "metadata": {},
     "output_type": "execute_result"
    }
   ],
   "source": [
    "OH_X.describe()"
   ]
  },
  {
   "cell_type": "code",
   "execution_count": 18,
   "metadata": {},
   "outputs": [
    {
     "data": {
      "text/html": [
       "<div>\n",
       "<style scoped>\n",
       "    .dataframe tbody tr th:only-of-type {\n",
       "        vertical-align: middle;\n",
       "    }\n",
       "\n",
       "    .dataframe tbody tr th {\n",
       "        vertical-align: top;\n",
       "    }\n",
       "\n",
       "    .dataframe thead th {\n",
       "        text-align: right;\n",
       "    }\n",
       "</style>\n",
       "<table border=\"1\" class=\"dataframe\">\n",
       "  <thead>\n",
       "    <tr style=\"text-align: right;\">\n",
       "      <th></th>\n",
       "      <th>stroke</th>\n",
       "    </tr>\n",
       "  </thead>\n",
       "  <tbody>\n",
       "    <tr>\n",
       "      <th>249</th>\n",
       "      <td>0</td>\n",
       "    </tr>\n",
       "    <tr>\n",
       "      <th>250</th>\n",
       "      <td>0</td>\n",
       "    </tr>\n",
       "    <tr>\n",
       "      <th>251</th>\n",
       "      <td>0</td>\n",
       "    </tr>\n",
       "    <tr>\n",
       "      <th>252</th>\n",
       "      <td>0</td>\n",
       "    </tr>\n",
       "    <tr>\n",
       "      <th>253</th>\n",
       "      <td>0</td>\n",
       "    </tr>\n",
       "    <tr>\n",
       "      <th>...</th>\n",
       "      <td>...</td>\n",
       "    </tr>\n",
       "    <tr>\n",
       "      <th>136</th>\n",
       "      <td>1</td>\n",
       "    </tr>\n",
       "    <tr>\n",
       "      <th>134</th>\n",
       "      <td>1</td>\n",
       "    </tr>\n",
       "    <tr>\n",
       "      <th>192</th>\n",
       "      <td>1</td>\n",
       "    </tr>\n",
       "    <tr>\n",
       "      <th>177</th>\n",
       "      <td>1</td>\n",
       "    </tr>\n",
       "    <tr>\n",
       "      <th>163</th>\n",
       "      <td>1</td>\n",
       "    </tr>\n",
       "  </tbody>\n",
       "</table>\n",
       "<p>9722 rows × 1 columns</p>\n",
       "</div>"
      ],
      "text/plain": [
       "     stroke\n",
       "249       0\n",
       "250       0\n",
       "251       0\n",
       "252       0\n",
       "253       0\n",
       "..      ...\n",
       "136       1\n",
       "134       1\n",
       "192       1\n",
       "177       1\n",
       "163       1\n",
       "\n",
       "[9722 rows x 1 columns]"
      ]
     },
     "execution_count": 18,
     "metadata": {},
     "output_type": "execute_result"
    }
   ],
   "source": [
    "Y"
   ]
  },
  {
   "cell_type": "markdown",
   "metadata": {},
   "source": [
    "### Splitting Dataset\n"
   ]
  },
  {
   "cell_type": "code",
   "execution_count": 19,
   "metadata": {},
   "outputs": [],
   "source": [
    "from sklearn.model_selection import train_test_split\n",
    "X_train , X_test, Y_train, Y_test = train_test_split(OH_X, Y, test_size = 0.2, random_state = 1)"
   ]
  },
  {
   "cell_type": "markdown",
   "metadata": {},
   "source": [
    "### Feature Scaling\n"
   ]
  },
  {
   "cell_type": "code",
   "execution_count": 20,
   "metadata": {},
   "outputs": [],
   "source": [
    "# from sklearn.decomposition import PCA\n",
    "# pca = PCA(n_components = 2)\n",
    "# X_train = pca.fit_transform(X_train)\n",
    "# X_test = pca.transform(X_test)\n",
    "# explained_variance = pca.explained_variance_ratio_\n",
    "# print(explained_variance)"
   ]
  },
  {
   "cell_type": "code",
   "execution_count": 21,
   "metadata": {},
   "outputs": [
    {
     "data": {
      "text/html": [
       "<div>\n",
       "<style scoped>\n",
       "    .dataframe tbody tr th:only-of-type {\n",
       "        vertical-align: middle;\n",
       "    }\n",
       "\n",
       "    .dataframe tbody tr th {\n",
       "        vertical-align: top;\n",
       "    }\n",
       "\n",
       "    .dataframe thead th {\n",
       "        text-align: right;\n",
       "    }\n",
       "</style>\n",
       "<table border=\"1\" class=\"dataframe\">\n",
       "  <thead>\n",
       "    <tr style=\"text-align: right;\">\n",
       "      <th></th>\n",
       "      <th>age</th>\n",
       "      <th>hypertension</th>\n",
       "      <th>heart_disease</th>\n",
       "      <th>avg_glucose_level</th>\n",
       "      <th>bmi</th>\n",
       "    </tr>\n",
       "  </thead>\n",
       "  <tbody>\n",
       "    <tr>\n",
       "      <th>4880</th>\n",
       "      <td>65.0</td>\n",
       "      <td>0</td>\n",
       "      <td>0</td>\n",
       "      <td>95.44</td>\n",
       "      <td>25.5</td>\n",
       "    </tr>\n",
       "    <tr>\n",
       "      <th>3631</th>\n",
       "      <td>62.0</td>\n",
       "      <td>0</td>\n",
       "      <td>0</td>\n",
       "      <td>56.74</td>\n",
       "      <td>28.9</td>\n",
       "    </tr>\n",
       "    <tr>\n",
       "      <th>130</th>\n",
       "      <td>73.0</td>\n",
       "      <td>1</td>\n",
       "      <td>0</td>\n",
       "      <td>190.14</td>\n",
       "      <td>36.5</td>\n",
       "    </tr>\n",
       "    <tr>\n",
       "      <th>97</th>\n",
       "      <td>58.0</td>\n",
       "      <td>0</td>\n",
       "      <td>1</td>\n",
       "      <td>240.59</td>\n",
       "      <td>31.4</td>\n",
       "    </tr>\n",
       "    <tr>\n",
       "      <th>97</th>\n",
       "      <td>58.0</td>\n",
       "      <td>0</td>\n",
       "      <td>1</td>\n",
       "      <td>240.59</td>\n",
       "      <td>31.4</td>\n",
       "    </tr>\n",
       "    <tr>\n",
       "      <th>...</th>\n",
       "      <td>...</td>\n",
       "      <td>...</td>\n",
       "      <td>...</td>\n",
       "      <td>...</td>\n",
       "      <td>...</td>\n",
       "    </tr>\n",
       "    <tr>\n",
       "      <th>3144</th>\n",
       "      <td>79.0</td>\n",
       "      <td>0</td>\n",
       "      <td>0</td>\n",
       "      <td>82.07</td>\n",
       "      <td>30.4</td>\n",
       "    </tr>\n",
       "    <tr>\n",
       "      <th>14</th>\n",
       "      <td>79.0</td>\n",
       "      <td>0</td>\n",
       "      <td>1</td>\n",
       "      <td>214.09</td>\n",
       "      <td>28.2</td>\n",
       "    </tr>\n",
       "    <tr>\n",
       "      <th>1154</th>\n",
       "      <td>21.0</td>\n",
       "      <td>0</td>\n",
       "      <td>0</td>\n",
       "      <td>112.07</td>\n",
       "      <td>28.2</td>\n",
       "    </tr>\n",
       "    <tr>\n",
       "      <th>80</th>\n",
       "      <td>59.0</td>\n",
       "      <td>0</td>\n",
       "      <td>0</td>\n",
       "      <td>96.16</td>\n",
       "      <td>44.1</td>\n",
       "    </tr>\n",
       "    <tr>\n",
       "      <th>484</th>\n",
       "      <td>48.0</td>\n",
       "      <td>0</td>\n",
       "      <td>0</td>\n",
       "      <td>132.08</td>\n",
       "      <td>31.6</td>\n",
       "    </tr>\n",
       "  </tbody>\n",
       "</table>\n",
       "<p>7777 rows × 5 columns</p>\n",
       "</div>"
      ],
      "text/plain": [
       "       age  hypertension  heart_disease  avg_glucose_level   bmi\n",
       "4880  65.0             0              0              95.44  25.5\n",
       "3631  62.0             0              0              56.74  28.9\n",
       "130   73.0             1              0             190.14  36.5\n",
       "97    58.0             0              1             240.59  31.4\n",
       "97    58.0             0              1             240.59  31.4\n",
       "...    ...           ...            ...                ...   ...\n",
       "3144  79.0             0              0              82.07  30.4\n",
       "14    79.0             0              1             214.09  28.2\n",
       "1154  21.0             0              0             112.07  28.2\n",
       "80    59.0             0              0              96.16  44.1\n",
       "484   48.0             0              0             132.08  31.6\n",
       "\n",
       "[7777 rows x 5 columns]"
      ]
     },
     "execution_count": 21,
     "metadata": {},
     "output_type": "execute_result"
    }
   ],
   "source": [
    "X_train.iloc[:,0:5]"
   ]
  },
  {
   "cell_type": "code",
   "execution_count": 22,
   "metadata": {},
   "outputs": [
    {
     "name": "stdout",
     "output_type": "stream",
     "text": [
      "           age  hypertension  heart_disease  avg_glucose_level       bmi    0  \\\n",
      "4880  0.458394     -0.458314      -0.368095          -0.416199 -0.584501  1.0   \n",
      "3631  0.323375     -0.458314      -0.368095          -1.116222 -0.089405  1.0   \n",
      "130   0.818446      2.181912      -0.368095           1.296779  1.017280  1.0   \n",
      "97    0.143350     -0.458314       2.716687           2.209343  0.274636  0.0   \n",
      "97    0.143350     -0.458314       2.716687           2.209343  0.274636  0.0   \n",
      "...        ...           ...            ...                ...       ...  ...   \n",
      "3144  1.088484     -0.458314      -0.368095          -0.658041  0.129019  1.0   \n",
      "14    1.088484     -0.458314       2.716687           1.729998 -0.191337  1.0   \n",
      "1154 -1.521887     -0.458314      -0.368095          -0.115387 -0.191337  1.0   \n",
      "80    0.188356     -0.458314      -0.368095          -0.403175  2.123965  0.0   \n",
      "484  -0.306714     -0.458314      -0.368095           0.246563  0.303759  1.0   \n",
      "\n",
      "        1    2    3    4  ...    6    7    8    9   10   11   12   13   14  \\\n",
      "4880  0.0  0.0  0.0  1.0  ...  0.0  0.0  1.0  0.0  0.0  1.0  0.0  0.0  0.0   \n",
      "3631  0.0  0.0  0.0  1.0  ...  0.0  1.0  0.0  0.0  0.0  1.0  0.0  0.0  1.0   \n",
      "130   0.0  0.0  0.0  1.0  ...  0.0  1.0  0.0  0.0  1.0  0.0  0.0  0.0  1.0   \n",
      "97    1.0  0.0  0.0  1.0  ...  0.0  1.0  0.0  0.0  1.0  0.0  0.0  0.0  0.0   \n",
      "97    1.0  0.0  0.0  1.0  ...  0.0  1.0  0.0  0.0  1.0  0.0  0.0  0.0  0.0   \n",
      "...   ...  ...  ...  ...  ...  ...  ...  ...  ...  ...  ...  ...  ...  ...   \n",
      "3144  0.0  0.0  1.0  0.0  ...  0.0  0.0  1.0  0.0  1.0  0.0  1.0  0.0  0.0   \n",
      "14    0.0  0.0  0.0  1.0  ...  0.0  1.0  0.0  0.0  0.0  1.0  0.0  0.0  1.0   \n",
      "1154  0.0  0.0  1.0  0.0  ...  0.0  1.0  0.0  0.0  0.0  1.0  0.0  0.0  1.0   \n",
      "80    1.0  0.0  0.0  1.0  ...  0.0  1.0  0.0  0.0  1.0  0.0  1.0  0.0  0.0   \n",
      "484   0.0  0.0  0.0  1.0  ...  0.0  0.0  1.0  0.0  1.0  0.0  0.0  0.0  0.0   \n",
      "\n",
      "       15  \n",
      "4880  1.0  \n",
      "3631  0.0  \n",
      "130   0.0  \n",
      "97    1.0  \n",
      "97    1.0  \n",
      "...   ...  \n",
      "3144  0.0  \n",
      "14    0.0  \n",
      "1154  0.0  \n",
      "80    0.0  \n",
      "484   1.0  \n",
      "\n",
      "[7777 rows x 21 columns]            age  hypertension  heart_disease  avg_glucose_level       bmi    0  \\\n",
      "3937 -2.151977     -0.458314      -0.368095          -0.277460 -1.632940  1.0   \n",
      "2625 -1.026817     -0.458314      -0.368095          -0.450929  0.347444  0.0   \n",
      "3607  0.413388     -0.458314      -0.368095          -0.723522 -0.366077  1.0   \n",
      "2236 -0.711772     -0.458314      -0.368095          -0.291207 -0.861173  0.0   \n",
      "102   0.863452     -0.458314      -0.368095           2.046908  0.740608  1.0   \n",
      "...        ...           ...            ...                ...       ...  ...   \n",
      "121  -0.081682      2.181912      -0.368095          -1.011128  0.114458  1.0   \n",
      "1170  1.133490     -0.458314      -0.368095          -0.774712 -0.642748  1.0   \n",
      "61    1.133490      2.181912      -0.368095          -0.787736 -1.065036  1.0   \n",
      "1566  0.953465     -0.458314       2.716687          -0.307849 -0.060282  0.0   \n",
      "4107  0.188356     -0.458314      -0.368095          -0.738897 -0.890296  1.0   \n",
      "\n",
      "        1    2    3    4  ...    6    7    8    9   10   11   12   13   14  \\\n",
      "3937  0.0  0.0  1.0  0.0  ...  0.0  0.0  0.0  1.0  0.0  1.0  1.0  0.0  0.0   \n",
      "2625  1.0  0.0  0.0  1.0  ...  0.0  1.0  0.0  0.0  0.0  1.0  1.0  0.0  0.0   \n",
      "3607  0.0  0.0  0.0  1.0  ...  0.0  1.0  0.0  0.0  1.0  0.0  0.0  1.0  0.0   \n",
      "2236  1.0  0.0  0.0  1.0  ...  0.0  1.0  0.0  0.0  1.0  0.0  0.0  0.0  1.0   \n",
      "102   0.0  0.0  0.0  1.0  ...  0.0  1.0  0.0  0.0  1.0  0.0  0.0  1.0  0.0   \n",
      "...   ...  ...  ...  ...  ...  ...  ...  ...  ...  ...  ...  ...  ...  ...   \n",
      "121   0.0  0.0  0.0  1.0  ...  0.0  1.0  0.0  0.0  0.0  1.0  1.0  0.0  0.0   \n",
      "1170  0.0  0.0  0.0  1.0  ...  0.0  1.0  0.0  0.0  1.0  0.0  0.0  0.0  0.0   \n",
      "61    0.0  0.0  0.0  1.0  ...  0.0  1.0  0.0  0.0  1.0  0.0  0.0  0.0  1.0   \n",
      "1566  1.0  0.0  0.0  1.0  ...  0.0  0.0  1.0  0.0  1.0  0.0  1.0  0.0  0.0   \n",
      "4107  0.0  0.0  0.0  1.0  ...  0.0  0.0  1.0  0.0  0.0  1.0  1.0  0.0  0.0   \n",
      "\n",
      "       15  \n",
      "3937  0.0  \n",
      "2625  0.0  \n",
      "3607  0.0  \n",
      "2236  0.0  \n",
      "102   0.0  \n",
      "...   ...  \n",
      "121   0.0  \n",
      "1170  1.0  \n",
      "61    0.0  \n",
      "1566  0.0  \n",
      "4107  0.0  \n",
      "\n",
      "[1945 rows x 21 columns]\n"
     ]
    },
    {
     "name": "stderr",
     "output_type": "stream",
     "text": [
      "C:\\ProgramData\\Anaconda3\\lib\\site-packages\\pandas\\core\\indexing.py:1738: SettingWithCopyWarning: \n",
      "A value is trying to be set on a copy of a slice from a DataFrame.\n",
      "Try using .loc[row_indexer,col_indexer] = value instead\n",
      "\n",
      "See the caveats in the documentation: https://pandas.pydata.org/pandas-docs/stable/user_guide/indexing.html#returning-a-view-versus-a-copy\n",
      "  self._setitem_single_column(loc, value[:, i].tolist(), pi)\n",
      "C:\\ProgramData\\Anaconda3\\lib\\site-packages\\pandas\\core\\indexing.py:1738: SettingWithCopyWarning: \n",
      "A value is trying to be set on a copy of a slice from a DataFrame.\n",
      "Try using .loc[row_indexer,col_indexer] = value instead\n",
      "\n",
      "See the caveats in the documentation: https://pandas.pydata.org/pandas-docs/stable/user_guide/indexing.html#returning-a-view-versus-a-copy\n",
      "  self._setitem_single_column(loc, value[:, i].tolist(), pi)\n"
     ]
    }
   ],
   "source": [
    "from sklearn.preprocessing import StandardScaler\n",
    "sc = StandardScaler()\n",
    "X_train.iloc[:,0:5] = sc.fit_transform(X_train.iloc[:,0:5])\n",
    "X_test.iloc[:,0:5] = sc.transform(X_test.iloc[:,0:5])\n",
    "print(X_train,X_test)"
   ]
  },
  {
   "cell_type": "markdown",
   "metadata": {},
   "source": [
    "### Models\n"
   ]
  },
  {
   "cell_type": "markdown",
   "metadata": {},
   "source": [
    "#### Regression\n"
   ]
  },
  {
   "cell_type": "code",
   "execution_count": 23,
   "metadata": {},
   "outputs": [
    {
     "name": "stdout",
     "output_type": "stream",
     "text": [
      "[[704 271]\n",
      " [125 845]] Nodes:  10 0.7964010282776349\n",
      "[[735 240]\n",
      " [107 863]] Nodes:  25 0.8215938303341902\n",
      "[[722 253]\n",
      " [ 35 935]] Nodes:  50 0.8519280205655527\n",
      "[[775 200]\n",
      " [  3 967]] Nodes:  100 0.8956298200514139\n"
     ]
    },
    {
     "name": "stderr",
     "output_type": "stream",
     "text": [
      "C:\\ProgramData\\Anaconda3\\lib\\site-packages\\seaborn\\_decorators.py:43: FutureWarning: Pass the following variables as keyword args: x, y. From version 0.12, the only valid positional argument will be `data`, and passing other arguments without an explicit keyword will result in an error or misinterpretation.\n",
      "  FutureWarning\n"
     ]
    },
    {
     "data": {
      "text/plain": [
       "<AxesSubplot:>"
      ]
     },
     "execution_count": 23,
     "metadata": {},
     "output_type": "execute_result"
    },
    {
     "data": {
      "image/png": "[encoded data removed]",
      "text/plain": [
       "<Figure size 432x288 with 1 Axes>"
      ]
     },
     "metadata": {
      "needs_background": "light"
     },
     "output_type": "display_data"
    }
   ],
   "source": [
    "from sklearn.tree import DecisionTreeClassifier\n",
    "from sklearn.metrics import accuracy_score,mean_absolute_error,confusion_matrix\n",
    "nodes = [10,25,50,100]\n",
    "accuracy =[]\n",
    "for node in nodes:    \n",
    "    model = DecisionTreeClassifier(random_state=1,max_leaf_nodes=node)\n",
    "    model.fit(X_train,Y_train)\n",
    "    preds = model.predict(X_test)\n",
    "    accs = accuracy_score(Y_test,preds.round())\n",
    "    accuracy.append(accs)\n",
    "    print(confusion_matrix(Y_test,preds.round()),'Nodes: ', node,accs)\n",
    "# print(accuracy)\n",
    "sns.lineplot(nodes,accuracy)"
   ]
  },
  {
   "cell_type": "code",
   "execution_count": 24,
   "metadata": {},
   "outputs": [
    {
     "name": "stderr",
     "output_type": "stream",
     "text": [
      "C:\\ProgramData\\Anaconda3\\lib\\site-packages\\ipykernel_launcher.py:7: DataConversionWarning: A column-vector y was passed when a 1d array was expected. Please change the shape of y to (n_samples,), for example using ravel().\n",
      "  import sys\n",
      "C:\\ProgramData\\Anaconda3\\lib\\site-packages\\ipykernel_launcher.py:7: DataConversionWarning: A column-vector y was passed when a 1d array was expected. Please change the shape of y to (n_samples,), for example using ravel().\n",
      "  import sys\n",
      "C:\\ProgramData\\Anaconda3\\lib\\site-packages\\ipykernel_launcher.py:7: DataConversionWarning: A column-vector y was passed when a 1d array was expected. Please change the shape of y to (n_samples,), for example using ravel().\n",
      "  import sys\n"
     ]
    },
    {
     "name": "stdout",
     "output_type": "stream",
     "text": [
      "[[952  23]\n",
      " [  0 970]] No of Estimators:  10 0.9881748071979435\n",
      "[[952  23]\n",
      " [  0 970]] No of Estimators:  15 0.9881748071979435\n",
      "[[958  17]\n",
      " [  0 970]] No of Estimators:  20 0.9912596401028277\n",
      "[[954  21]\n",
      " [  0 970]] No of Estimators:  25 0.9892030848329049\n"
     ]
    },
    {
     "name": "stderr",
     "output_type": "stream",
     "text": [
      "C:\\ProgramData\\Anaconda3\\lib\\site-packages\\ipykernel_launcher.py:7: DataConversionWarning: A column-vector y was passed when a 1d array was expected. Please change the shape of y to (n_samples,), for example using ravel().\n",
      "  import sys\n",
      "C:\\ProgramData\\Anaconda3\\lib\\site-packages\\ipykernel_launcher.py:7: DataConversionWarning: A column-vector y was passed when a 1d array was expected. Please change the shape of y to (n_samples,), for example using ravel().\n",
      "  import sys\n"
     ]
    },
    {
     "name": "stdout",
     "output_type": "stream",
     "text": [
      "[[958  17]\n",
      " [  0 970]] No of Estimators:  50 0.9912596401028277\n"
     ]
    },
    {
     "name": "stderr",
     "output_type": "stream",
     "text": [
      "C:\\ProgramData\\Anaconda3\\lib\\site-packages\\ipykernel_launcher.py:7: DataConversionWarning: A column-vector y was passed when a 1d array was expected. Please change the shape of y to (n_samples,), for example using ravel().\n",
      "  import sys\n"
     ]
    },
    {
     "name": "stdout",
     "output_type": "stream",
     "text": [
      "[[957  18]\n",
      " [  0 970]] No of Estimators:  100 0.990745501285347\n"
     ]
    },
    {
     "name": "stderr",
     "output_type": "stream",
     "text": [
      "C:\\ProgramData\\Anaconda3\\lib\\site-packages\\seaborn\\_decorators.py:43: FutureWarning: Pass the following variables as keyword args: x, y. From version 0.12, the only valid positional argument will be `data`, and passing other arguments without an explicit keyword will result in an error or misinterpretation.\n",
      "  FutureWarning\n"
     ]
    },
    {
     "data": {
      "text/plain": [
       "<AxesSubplot:>"
      ]
     },
     "execution_count": 24,
     "metadata": {},
     "output_type": "execute_result"
    },
    {
     "data": {
      "image/png": "[encoded data removed]",
      "text/plain": [
       "<Figure size 432x288 with 1 Axes>"
      ]
     },
     "metadata": {
      "needs_background": "light"
     },
     "output_type": "display_data"
    }
   ],
   "source": [
    "from sklearn.ensemble import RandomForestClassifier\n",
    "from sklearn.metrics import accuracy_score,mean_absolute_error\n",
    "nodes = [10,15,20,25,50,100]\n",
    "accuracy =[]\n",
    "for node in nodes:    \n",
    "    model = RandomForestClassifier(criterion = 'entropy', random_state=0, n_estimators=node)\n",
    "    model.fit(X_train,Y_train)\n",
    "    preds = model.predict(X_test)\n",
    "    accs = accuracy_score(Y_test,preds.round())\n",
    "    accuracy.append(accs)\n",
    "    print(confusion_matrix(Y_test,preds.round()),'No of Estimators: ', node,accs)\n",
    "\n",
    "sns.lineplot(nodes,accuracy)"
   ]
  },
  {
   "cell_type": "code",
   "execution_count": 25,
   "metadata": {},
   "outputs": [
    {
     "name": "stderr",
     "output_type": "stream",
     "text": [
      "C:\\ProgramData\\Anaconda3\\lib\\site-packages\\sklearn\\neighbors\\_classification.py:179: DataConversionWarning: A column-vector y was passed when a 1d array was expected. Please change the shape of y to (n_samples,), for example using ravel().\n",
      "  return self._fit(X, y)\n"
     ]
    },
    {
     "name": "stdout",
     "output_type": "stream",
     "text": [
      "[[850 125]\n",
      " [  0 970]] No of Neighbors:  5 0.9357326478149101\n"
     ]
    },
    {
     "name": "stderr",
     "output_type": "stream",
     "text": [
      "C:\\ProgramData\\Anaconda3\\lib\\site-packages\\sklearn\\neighbors\\_classification.py:179: DataConversionWarning: A column-vector y was passed when a 1d array was expected. Please change the shape of y to (n_samples,), for example using ravel().\n",
      "  return self._fit(X, y)\n"
     ]
    },
    {
     "name": "stdout",
     "output_type": "stream",
     "text": [
      "[[780 195]\n",
      " [  0 970]] No of Neighbors:  10 0.8997429305912596\n"
     ]
    },
    {
     "name": "stderr",
     "output_type": "stream",
     "text": [
      "C:\\ProgramData\\Anaconda3\\lib\\site-packages\\sklearn\\neighbors\\_classification.py:179: DataConversionWarning: A column-vector y was passed when a 1d array was expected. Please change the shape of y to (n_samples,), for example using ravel().\n",
      "  return self._fit(X, y)\n"
     ]
    },
    {
     "name": "stdout",
     "output_type": "stream",
     "text": [
      "[[711 264]\n",
      " [  7 963]] No of Neighbors:  15 0.860668380462725\n"
     ]
    },
    {
     "name": "stderr",
     "output_type": "stream",
     "text": [
      "C:\\ProgramData\\Anaconda3\\lib\\site-packages\\sklearn\\neighbors\\_classification.py:179: DataConversionWarning: A column-vector y was passed when a 1d array was expected. Please change the shape of y to (n_samples,), for example using ravel().\n",
      "  return self._fit(X, y)\n"
     ]
    },
    {
     "name": "stdout",
     "output_type": "stream",
     "text": [
      "[[678 297]\n",
      " [ 29 941]] No of Neighbors:  20 0.8323907455012853\n"
     ]
    },
    {
     "name": "stderr",
     "output_type": "stream",
     "text": [
      "C:\\ProgramData\\Anaconda3\\lib\\site-packages\\sklearn\\neighbors\\_classification.py:179: DataConversionWarning: A column-vector y was passed when a 1d array was expected. Please change the shape of y to (n_samples,), for example using ravel().\n",
      "  return self._fit(X, y)\n"
     ]
    },
    {
     "name": "stdout",
     "output_type": "stream",
     "text": [
      "[[640 335]\n",
      " [ 23 947]] No of Neighbors:  25 0.8159383033419023\n"
     ]
    },
    {
     "name": "stderr",
     "output_type": "stream",
     "text": [
      "C:\\ProgramData\\Anaconda3\\lib\\site-packages\\sklearn\\neighbors\\_classification.py:179: DataConversionWarning: A column-vector y was passed when a 1d array was expected. Please change the shape of y to (n_samples,), for example using ravel().\n",
      "  return self._fit(X, y)\n"
     ]
    },
    {
     "name": "stdout",
     "output_type": "stream",
     "text": [
      "[[646 329]\n",
      " [113 857]] No of Neighbors:  50 0.7727506426735219\n"
     ]
    },
    {
     "name": "stderr",
     "output_type": "stream",
     "text": [
      "C:\\ProgramData\\Anaconda3\\lib\\site-packages\\sklearn\\neighbors\\_classification.py:179: DataConversionWarning: A column-vector y was passed when a 1d array was expected. Please change the shape of y to (n_samples,), for example using ravel().\n",
      "  return self._fit(X, y)\n"
     ]
    },
    {
     "name": "stdout",
     "output_type": "stream",
     "text": [
      "[[661 314]\n",
      " [125 845]] No of Neighbors:  100 0.774293059125964\n"
     ]
    },
    {
     "name": "stderr",
     "output_type": "stream",
     "text": [
      "C:\\ProgramData\\Anaconda3\\lib\\site-packages\\seaborn\\_decorators.py:43: FutureWarning: Pass the following variables as keyword args: x, y. From version 0.12, the only valid positional argument will be `data`, and passing other arguments without an explicit keyword will result in an error or misinterpretation.\n",
      "  FutureWarning\n"
     ]
    },
    {
     "data": {
      "text/plain": [
       "<AxesSubplot:>"
      ]
     },
     "execution_count": 25,
     "metadata": {},
     "output_type": "execute_result"
    },
    {
     "data": {
      "image/png": "[encoded data removed]",
      "text/plain": [
       "<Figure size 432x288 with 1 Axes>"
      ]
     },
     "metadata": {
      "needs_background": "light"
     },
     "output_type": "display_data"
    }
   ],
   "source": [
    "from sklearn.neighbors import KNeighborsClassifier\n",
    "from sklearn.metrics import accuracy_score,mean_absolute_error\n",
    "nodes = [5,10,15,20,25,50,100]\n",
    "accuracy =[]\n",
    "for node in nodes:    \n",
    "    classifier = KNeighborsClassifier(n_neighbors = node, metric = 'minkowski',p=2)\n",
    "    classifier.fit(X_train,Y_train)\n",
    "    preds = classifier.predict(X_test)\n",
    "    accs = accuracy_score(Y_test,preds.round())\n",
    "    accuracy.append(accs)\n",
    "    print(confusion_matrix(Y_test,preds),'No of Neighbors: ', node,accs)\n",
    "\n",
    "sns.lineplot(nodes,accuracy)\n",
    "\n"
   ]
  },
  {
   "cell_type": "code",
   "execution_count": 26,
   "metadata": {},
   "outputs": [
    {
     "name": "stdout",
     "output_type": "stream",
     "text": [
      "Epoch 1/100\n",
      "WARNING:tensorflow:Layer dense_3 is casting an input tensor from dtype float64 to the layer's dtype of float32, which is new behavior in TensorFlow 2.  The layer has dtype float32 because it's dtype defaults to floatx.\n",
      "\n",
      "If you intended to run this layer in float32, you can safely ignore this warning. If in doubt, this warning is likely only an issue if you are porting a TensorFlow 1.X model to TensorFlow 2.\n",
      "\n",
      "To change all layers to have dtype float64 by default, call `tf.keras.backend.set_floatx('float64')`. To change just this layer, pass dtype='float64' to the layer constructor. If you are the author of this layer, you can disable autocasting by passing autocast=False to the base Layer constructor.\n",
      "\n",
      "244/244 [==============================] - 0s 1ms/step - loss: 0.4245\n",
      "Epoch 2/100\n",
      "244/244 [==============================] - 0s 948us/step - loss: 0.2002\n",
      "Epoch 3/100\n",
      "244/244 [==============================] - 0s 899us/step - loss: 0.1760\n",
      "Epoch 4/100\n",
      "244/244 [==============================] - 0s 1ms/step - loss: 0.1650\n",
      "Epoch 5/100\n",
      "244/244 [==============================] - 0s 999us/step - loss: 0.1603\n",
      "Epoch 6/100\n",
      "244/244 [==============================] - 0s 820us/step - loss: 0.1581\n",
      "Epoch 7/100\n",
      "244/244 [==============================] - 0s 722us/step - loss: 0.1563\n",
      "Epoch 8/100\n",
      "244/244 [==============================] - 0s 775us/step - loss: 0.1545\n",
      "Epoch 9/100\n",
      "244/244 [==============================] - 0s 885us/step - loss: 0.1533\n",
      "Epoch 10/100\n",
      "244/244 [==============================] - 0s 937us/step - loss: 0.1526\n",
      "Epoch 11/100\n",
      "244/244 [==============================] - 0s 980us/step - loss: 0.1517\n",
      "Epoch 12/100\n",
      "244/244 [==============================] - 0s 833us/step - loss: 0.1506\n",
      "Epoch 13/100\n",
      "244/244 [==============================] - 0s 979us/step - loss: 0.1502\n",
      "Epoch 14/100\n",
      "244/244 [==============================] - 0s 864us/step - loss: 0.1497\n",
      "Epoch 15/100\n",
      "244/244 [==============================] - 0s 949us/step - loss: 0.1494\n",
      "Epoch 16/100\n",
      "244/244 [==============================] - 0s 710us/step - loss: 0.1487\n",
      "Epoch 17/100\n",
      "244/244 [==============================] - 0s 682us/step - loss: 0.1483\n",
      "Epoch 18/100\n",
      "244/244 [==============================] - 0s 739us/step - loss: 0.1476\n",
      "Epoch 19/100\n",
      "244/244 [==============================] - 0s 1ms/step - loss: 0.1474\n",
      "Epoch 20/100\n",
      "244/244 [==============================] - 0s 1ms/step - loss: 0.1470\n",
      "Epoch 21/100\n",
      "244/244 [==============================] - 0s 914us/step - loss: 0.1464\n",
      "Epoch 22/100\n",
      "244/244 [==============================] - 0s 915us/step - loss: 0.1457\n",
      "Epoch 23/100\n",
      "244/244 [==============================] - 0s 1ms/step - loss: 0.1453\n",
      "Epoch 24/100\n",
      "244/244 [==============================] - 0s 1ms/step - loss: 0.1452\n",
      "Epoch 25/100\n",
      "244/244 [==============================] - 0s 936us/step - loss: 0.1448\n",
      "Epoch 26/100\n",
      "244/244 [==============================] - 0s 927us/step - loss: 0.1443\n",
      "Epoch 27/100\n",
      "244/244 [==============================] - 0s 912us/step - loss: 0.1440\n",
      "Epoch 28/100\n",
      "244/244 [==============================] - 0s 925us/step - loss: 0.1438\n",
      "Epoch 29/100\n",
      "244/244 [==============================] - 0s 929us/step - loss: 0.1437\n",
      "Epoch 30/100\n",
      "244/244 [==============================] - 0s 949us/step - loss: 0.1434\n",
      "Epoch 31/100\n",
      "244/244 [==============================] - 0s 1ms/step - loss: 0.1428\n",
      "Epoch 32/100\n",
      "244/244 [==============================] - 0s 1ms/step - loss: 0.1424\n",
      "Epoch 33/100\n",
      "244/244 [==============================] - 0s 1ms/step - loss: 0.1421\n",
      "Epoch 34/100\n",
      "244/244 [==============================] - 0s 1ms/step - loss: 0.1420\n",
      "Epoch 35/100\n",
      "244/244 [==============================] - 0s 851us/step - loss: 0.1425\n",
      "Epoch 36/100\n",
      "244/244 [==============================] - 0s 1ms/step - loss: 0.1417\n",
      "Epoch 37/100\n",
      "244/244 [==============================] - 0s 893us/step - loss: 0.1411\n",
      "Epoch 38/100\n",
      "244/244 [==============================] - 0s 846us/step - loss: 0.1413\n",
      "Epoch 39/100\n",
      "244/244 [==============================] - 0s 766us/step - loss: 0.1407\n",
      "Epoch 40/100\n",
      "244/244 [==============================] - 0s 884us/step - loss: 0.1404\n",
      "Epoch 41/100\n",
      "244/244 [==============================] - 0s 1ms/step - loss: 0.1404\n",
      "Epoch 42/100\n",
      "244/244 [==============================] - 0s 959us/step - loss: 0.1403\n",
      "Epoch 43/100\n",
      "244/244 [==============================] - 0s 951us/step - loss: 0.1399\n",
      "Epoch 44/100\n",
      "244/244 [==============================] - 0s 931us/step - loss: 0.1400\n",
      "Epoch 45/100\n",
      "244/244 [==============================] - 0s 947us/step - loss: 0.1401\n",
      "Epoch 46/100\n",
      "244/244 [==============================] - 0s 993us/step - loss: 0.1397\n",
      "Epoch 47/100\n",
      "244/244 [==============================] - 0s 985us/step - loss: 0.1398\n",
      "Epoch 48/100\n",
      "244/244 [==============================] - 0s 892us/step - loss: 0.1398\n",
      "Epoch 49/100\n",
      "244/244 [==============================] - 0s 829us/step - loss: 0.1392\n",
      "Epoch 50/100\n",
      "244/244 [==============================] - 0s 822us/step - loss: 0.1396\n",
      "Epoch 51/100\n",
      "244/244 [==============================] - 0s 779us/step - loss: 0.1394\n",
      "Epoch 52/100\n",
      "244/244 [==============================] - 0s 791us/step - loss: 0.1394\n",
      "Epoch 53/100\n",
      "244/244 [==============================] - 0s 798us/step - loss: 0.1393\n",
      "Epoch 54/100\n",
      "244/244 [==============================] - 0s 792us/step - loss: 0.1400\n",
      "Epoch 55/100\n",
      "244/244 [==============================] - 0s 1ms/step - loss: 0.1390\n",
      "Epoch 56/100\n",
      "244/244 [==============================] - 0s 837us/step - loss: 0.1393\n",
      "Epoch 57/100\n",
      "244/244 [==============================] - 0s 820us/step - loss: 0.1391\n",
      "Epoch 58/100\n",
      "244/244 [==============================] - 0s 940us/step - loss: 0.1389\n",
      "Epoch 59/100\n",
      "244/244 [==============================] - 0s 928us/step - loss: 0.1392\n",
      "Epoch 60/100\n",
      "244/244 [==============================] - 0s 977us/step - loss: 0.1391\n",
      "Epoch 61/100\n",
      "244/244 [==============================] - 0s 856us/step - loss: 0.1388\n",
      "Epoch 62/100\n",
      "244/244 [==============================] - 0s 811us/step - loss: 0.1387\n",
      "Epoch 63/100\n",
      "244/244 [==============================] - 0s 849us/step - loss: 0.1388\n",
      "Epoch 64/100\n",
      "244/244 [==============================] - 0s 925us/step - loss: 0.1388\n",
      "Epoch 65/100\n",
      "244/244 [==============================] - 0s 967us/step - loss: 0.1387\n",
      "Epoch 66/100\n",
      "244/244 [==============================] - 0s 907us/step - loss: 0.1388\n",
      "Epoch 67/100\n",
      "244/244 [==============================] - 0s 874us/step - loss: 0.1386\n",
      "Epoch 68/100\n",
      "244/244 [==============================] - 0s 840us/step - loss: 0.1389\n",
      "Epoch 69/100\n",
      "244/244 [==============================] - 0s 849us/step - loss: 0.1388\n",
      "Epoch 70/100\n",
      "244/244 [==============================] - 0s 835us/step - loss: 0.1386\n",
      "Epoch 71/100\n",
      "244/244 [==============================] - 0s 881us/step - loss: 0.1385\n",
      "Epoch 72/100\n",
      "244/244 [==============================] - 0s 933us/step - loss: 0.1387\n",
      "Epoch 73/100\n",
      "244/244 [==============================] - 0s 1ms/step - loss: 0.1389\n",
      "Epoch 74/100\n",
      "244/244 [==============================] - 0s 946us/step - loss: 0.1389\n",
      "Epoch 75/100\n",
      "244/244 [==============================] - 0s 891us/step - loss: 0.1385 0s - loss: 0.13\n",
      "Epoch 76/100\n",
      "244/244 [==============================] - 0s 887us/step - loss: 0.1381\n",
      "Epoch 77/100\n",
      "244/244 [==============================] - 0s 904us/step - loss: 0.1383\n",
      "Epoch 78/100\n",
      "244/244 [==============================] - 0s 992us/step - loss: 0.1382\n",
      "Epoch 79/100\n",
      "244/244 [==============================] - 0s 980us/step - loss: 0.1382\n",
      "Epoch 80/100\n",
      "244/244 [==============================] - 0s 969us/step - loss: 0.1382\n",
      "Epoch 81/100\n",
      "244/244 [==============================] - 0s 966us/step - loss: 0.1380\n",
      "Epoch 82/100\n",
      "244/244 [==============================] - 0s 907us/step - loss: 0.1382\n",
      "Epoch 83/100\n",
      "244/244 [==============================] - 0s 1ms/step - loss: 0.1384\n",
      "Epoch 84/100\n",
      "244/244 [==============================] - 1s 2ms/step - loss: 0.1383\n",
      "Epoch 85/100\n",
      "244/244 [==============================] - 0s 1ms/step - loss: 0.1379\n",
      "Epoch 86/100\n",
      "244/244 [==============================] - 0s 1ms/step - loss: 0.1380\n",
      "Epoch 87/100\n",
      "244/244 [==============================] - 0s 1ms/step - loss: 0.1384\n",
      "Epoch 88/100\n",
      "244/244 [==============================] - 0s 1ms/step - loss: 0.1381\n",
      "Epoch 89/100\n"
     ]
    },
    {
     "name": "stdout",
     "output_type": "stream",
     "text": [
      "244/244 [==============================] - 0s 1ms/step - loss: 0.1376\n",
      "Epoch 90/100\n",
      "244/244 [==============================] - 0s 881us/step - loss: 0.1384\n",
      "Epoch 91/100\n",
      "244/244 [==============================] - 0s 896us/step - loss: 0.1375\n",
      "Epoch 92/100\n",
      "244/244 [==============================] - 0s 924us/step - loss: 0.1376\n",
      "Epoch 93/100\n",
      "244/244 [==============================] - 0s 918us/step - loss: 0.1376\n",
      "Epoch 94/100\n",
      "244/244 [==============================] - 0s 1ms/step - loss: 0.1379A: 0s - loss: 0.\n",
      "Epoch 95/100\n",
      "244/244 [==============================] - 0s 849us/step - loss: 0.1376\n",
      "Epoch 96/100\n",
      "244/244 [==============================] - 0s 811us/step - loss: 0.1381\n",
      "Epoch 97/100\n",
      "244/244 [==============================] - 0s 863us/step - loss: 0.1374\n",
      "Epoch 98/100\n",
      "244/244 [==============================] - 0s 905us/step - loss: 0.1376\n",
      "Epoch 99/100\n",
      "244/244 [==============================] - 0s 918us/step - loss: 0.1375\n",
      "Epoch 100/100\n",
      "244/244 [==============================] - 0s 1ms/step - loss: 0.1372\n",
      "[[725 250]\n",
      " [129 841]] 0.8051413881748072\n"
     ]
    }
   ],
   "source": [
    "import tensorflow as tf\n",
    "\n",
    "ann = tf.keras.models.Sequential()\n",
    "ann.add(tf.keras.layers.Dense(units = 6, activation = 'relu'))\n",
    "ann.add(tf.keras.layers.Dense(units = 6, activation = 'relu'))\n",
    "ann.add(tf.keras.layers.Dense(units=1))\n",
    "ann.compile(loss = 'mean_squared_error' , optimizer = 'adam')\n",
    "ann.fit(X_train, Y_train, batch_size = 32, epochs = 100)\n",
    "y_pred = ann.predict(X_test)\n",
    "accs = accuracy_score(Y_test,y_pred.round())\n",
    "print(confusion_matrix(Y_test,y_pred.round()),accs)"
   ]
  },
  {
   "cell_type": "code",
   "execution_count": 27,
   "metadata": {},
   "outputs": [
    {
     "name": "stderr",
     "output_type": "stream",
     "text": [
      "C:\\ProgramData\\Anaconda3\\lib\\site-packages\\xgboost\\sklearn.py:888: UserWarning: The use of label encoder in XGBClassifier is deprecated and will be removed in a future release. To remove this warning, do the following: 1) Pass option use_label_encoder=False when constructing XGBClassifier object; and 2) Encode your labels (y) as integers starting with 0, i.e. 0, 1, 2, ..., [num_class - 1].\n",
      "  warnings.warn(label_encoder_deprecation_msg, UserWarning)\n",
      "C:\\ProgramData\\Anaconda3\\lib\\site-packages\\sklearn\\utils\\validation.py:63: DataConversionWarning: A column-vector y was passed when a 1d array was expected. Please change the shape of y to (n_samples, ), for example using ravel().\n",
      "  return f(*args, **kwargs)\n"
     ]
    },
    {
     "name": "stdout",
     "output_type": "stream",
     "text": [
      "[15:29:41] WARNING: C:/Users/Administrator/workspace/xgboost-win64_release_1.3.0/src/learner.cc:1061: Starting in XGBoost 1.3.0, the default evaluation metric used with the objective 'binary:logistic' was changed from 'error' to 'logloss'. Explicitly set eval_metric if you'd like to restore the old behavior.\n",
      "[[926  49]\n",
      " [  0 970]]\n"
     ]
    },
    {
     "data": {
      "text/plain": [
       "0.9748071979434447"
      ]
     },
     "execution_count": 27,
     "metadata": {},
     "output_type": "execute_result"
    }
   ],
   "source": [
    "from xgboost import XGBClassifier   #XGBRegressor for Regression\n",
    "classifier = XGBClassifier()\n",
    "classifier.fit(X_train, Y_train)\n",
    "y_pred = classifier.predict(X_test)\n",
    "from sklearn.metrics import confusion_matrix, accuracy_score\n",
    "cm = confusion_matrix(Y_test, y_pred)\n",
    "print(cm)\n",
    "accuracy_score(Y_test, y_pred)"
   ]
  },
  {
   "cell_type": "code",
   "execution_count": 28,
   "metadata": {},
   "outputs": [
    {
     "name": "stdout",
     "output_type": "stream",
     "text": [
      "[[148 827]\n",
      " [ 10 960]]\n"
     ]
    },
    {
     "name": "stderr",
     "output_type": "stream",
     "text": [
      "C:\\ProgramData\\Anaconda3\\lib\\site-packages\\sklearn\\utils\\validation.py:63: DataConversionWarning: A column-vector y was passed when a 1d array was expected. Please change the shape of y to (n_samples, ), for example using ravel().\n",
      "  return f(*args, **kwargs)\n"
     ]
    },
    {
     "data": {
      "text/plain": [
       "0.5696658097686376"
      ]
     },
     "execution_count": 28,
     "metadata": {},
     "output_type": "execute_result"
    }
   ],
   "source": [
    "from sklearn.naive_bayes import GaussianNB\n",
    "classifier = GaussianNB()\n",
    "classifier.fit(X_train,Y_train)\n",
    "y_pred = classifier.predict(X_test)\n",
    "from sklearn.metrics import confusion_matrix, accuracy_score\n",
    "cm = confusion_matrix(Y_test, y_pred)\n",
    "print(cm)\n",
    "accuracy_score(Y_test, y_pred)"
   ]
  },
  {
   "cell_type": "code",
   "execution_count": null,
   "metadata": {},
   "outputs": [],
   "source": []
  }
 ],
 "metadata": {
  "kernelspec": {
   "display_name": "Python 3",
   "language": "python",
   "name": "python3"
  },
  "language_info": {
   "codemirror_mode": {
    "name": "ipython",
    "version": 3
   },
   "file_extension": ".py",
   "mimetype": "text/x-python",
   "name": "python",
   "nbconvert_exporter": "python",
   "pygments_lexer": "ipython3",
   "version": "3.7.10"
  }
 },
 "nbformat": 4,
 "nbformat_minor": 4
}
