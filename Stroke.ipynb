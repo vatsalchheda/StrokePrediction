{
 "cells": [
  {
   "cell_type": "code",
   "execution_count": 1,
   "metadata": {},
   "outputs": [],
   "source": [
    "import pandas as pd\n",
    "import numpy as np\n",
    "import seaborn as sns\n",
    "import matplotlib.pyplot as plt\n",
    "%matplotlib inline"
   ]
  },
  {
   "cell_type": "code",
   "execution_count": 2,
   "metadata": {},
   "outputs": [
    {
     "data": {
      "text/html": [
       "<div>\n",
       "<style scoped>\n",
       "    .dataframe tbody tr th:only-of-type {\n",
       "        vertical-align: middle;\n",
       "    }\n",
       "\n",
       "    .dataframe tbody tr th {\n",
       "        vertical-align: top;\n",
       "    }\n",
       "\n",
       "    .dataframe thead th {\n",
       "        text-align: right;\n",
       "    }\n",
       "</style>\n",
       "<table border=\"1\" class=\"dataframe\">\n",
       "  <thead>\n",
       "    <tr style=\"text-align: right;\">\n",
       "      <th></th>\n",
       "      <th>id</th>\n",
       "      <th>age</th>\n",
       "      <th>hypertension</th>\n",
       "      <th>heart_disease</th>\n",
       "      <th>avg_glucose_level</th>\n",
       "      <th>bmi</th>\n",
       "      <th>stroke</th>\n",
       "    </tr>\n",
       "  </thead>\n",
       "  <tbody>\n",
       "    <tr>\n",
       "      <th>count</th>\n",
       "      <td>5110.000000</td>\n",
       "      <td>5110.000000</td>\n",
       "      <td>5110.000000</td>\n",
       "      <td>5110.000000</td>\n",
       "      <td>5110.000000</td>\n",
       "      <td>4909.000000</td>\n",
       "      <td>5110.000000</td>\n",
       "    </tr>\n",
       "    <tr>\n",
       "      <th>mean</th>\n",
       "      <td>36517.829354</td>\n",
       "      <td>43.226614</td>\n",
       "      <td>0.097456</td>\n",
       "      <td>0.054012</td>\n",
       "      <td>106.147677</td>\n",
       "      <td>28.893237</td>\n",
       "      <td>0.048728</td>\n",
       "    </tr>\n",
       "    <tr>\n",
       "      <th>std</th>\n",
       "      <td>21161.721625</td>\n",
       "      <td>22.612647</td>\n",
       "      <td>0.296607</td>\n",
       "      <td>0.226063</td>\n",
       "      <td>45.283560</td>\n",
       "      <td>7.854067</td>\n",
       "      <td>0.215320</td>\n",
       "    </tr>\n",
       "    <tr>\n",
       "      <th>min</th>\n",
       "      <td>67.000000</td>\n",
       "      <td>0.080000</td>\n",
       "      <td>0.000000</td>\n",
       "      <td>0.000000</td>\n",
       "      <td>55.120000</td>\n",
       "      <td>10.300000</td>\n",
       "      <td>0.000000</td>\n",
       "    </tr>\n",
       "    <tr>\n",
       "      <th>25%</th>\n",
       "      <td>17741.250000</td>\n",
       "      <td>25.000000</td>\n",
       "      <td>0.000000</td>\n",
       "      <td>0.000000</td>\n",
       "      <td>77.245000</td>\n",
       "      <td>23.500000</td>\n",
       "      <td>0.000000</td>\n",
       "    </tr>\n",
       "    <tr>\n",
       "      <th>50%</th>\n",
       "      <td>36932.000000</td>\n",
       "      <td>45.000000</td>\n",
       "      <td>0.000000</td>\n",
       "      <td>0.000000</td>\n",
       "      <td>91.885000</td>\n",
       "      <td>28.100000</td>\n",
       "      <td>0.000000</td>\n",
       "    </tr>\n",
       "    <tr>\n",
       "      <th>75%</th>\n",
       "      <td>54682.000000</td>\n",
       "      <td>61.000000</td>\n",
       "      <td>0.000000</td>\n",
       "      <td>0.000000</td>\n",
       "      <td>114.090000</td>\n",
       "      <td>33.100000</td>\n",
       "      <td>0.000000</td>\n",
       "    </tr>\n",
       "    <tr>\n",
       "      <th>max</th>\n",
       "      <td>72940.000000</td>\n",
       "      <td>82.000000</td>\n",
       "      <td>1.000000</td>\n",
       "      <td>1.000000</td>\n",
       "      <td>271.740000</td>\n",
       "      <td>97.600000</td>\n",
       "      <td>1.000000</td>\n",
       "    </tr>\n",
       "  </tbody>\n",
       "</table>\n",
       "</div>"
      ],
      "text/plain": [
       "                 id          age  hypertension  heart_disease  \\\n",
       "count   5110.000000  5110.000000   5110.000000    5110.000000   \n",
       "mean   36517.829354    43.226614      0.097456       0.054012   \n",
       "std    21161.721625    22.612647      0.296607       0.226063   \n",
       "min       67.000000     0.080000      0.000000       0.000000   \n",
       "25%    17741.250000    25.000000      0.000000       0.000000   \n",
       "50%    36932.000000    45.000000      0.000000       0.000000   \n",
       "75%    54682.000000    61.000000      0.000000       0.000000   \n",
       "max    72940.000000    82.000000      1.000000       1.000000   \n",
       "\n",
       "       avg_glucose_level          bmi       stroke  \n",
       "count        5110.000000  4909.000000  5110.000000  \n",
       "mean          106.147677    28.893237     0.048728  \n",
       "std            45.283560     7.854067     0.215320  \n",
       "min            55.120000    10.300000     0.000000  \n",
       "25%            77.245000    23.500000     0.000000  \n",
       "50%            91.885000    28.100000     0.000000  \n",
       "75%           114.090000    33.100000     0.000000  \n",
       "max           271.740000    97.600000     1.000000  "
      ]
     },
     "execution_count": 2,
     "metadata": {},
     "output_type": "execute_result"
    }
   ],
   "source": [
    "dataset = pd.read_csv('healthcare-dataset-stroke-data.csv')\n",
    "dataset.describe()"
   ]
  },
  {
   "cell_type": "markdown",
   "metadata": {},
   "source": [
    "\n",
    "# Data PreProcessing\n"
   ]
  },
  {
   "cell_type": "markdown",
   "metadata": {},
   "source": [
    "### Data Visualization"
   ]
  },
  {
   "cell_type": "code",
   "execution_count": 3,
   "metadata": {},
   "outputs": [
    {
     "data": {
      "text/html": [
       "<div>\n",
       "<style scoped>\n",
       "    .dataframe tbody tr th:only-of-type {\n",
       "        vertical-align: middle;\n",
       "    }\n",
       "\n",
       "    .dataframe tbody tr th {\n",
       "        vertical-align: top;\n",
       "    }\n",
       "\n",
       "    .dataframe thead th {\n",
       "        text-align: right;\n",
       "    }\n",
       "</style>\n",
       "<table border=\"1\" class=\"dataframe\">\n",
       "  <thead>\n",
       "    <tr style=\"text-align: right;\">\n",
       "      <th></th>\n",
       "      <th>id</th>\n",
       "      <th>gender</th>\n",
       "      <th>age</th>\n",
       "      <th>hypertension</th>\n",
       "      <th>heart_disease</th>\n",
       "      <th>ever_married</th>\n",
       "      <th>work_type</th>\n",
       "      <th>Residence_type</th>\n",
       "      <th>avg_glucose_level</th>\n",
       "      <th>bmi</th>\n",
       "      <th>smoking_status</th>\n",
       "      <th>stroke</th>\n",
       "    </tr>\n",
       "  </thead>\n",
       "  <tbody>\n",
       "    <tr>\n",
       "      <th>0</th>\n",
       "      <td>9046</td>\n",
       "      <td>Male</td>\n",
       "      <td>67.0</td>\n",
       "      <td>0</td>\n",
       "      <td>1</td>\n",
       "      <td>Yes</td>\n",
       "      <td>Private</td>\n",
       "      <td>Urban</td>\n",
       "      <td>228.69</td>\n",
       "      <td>36.6</td>\n",
       "      <td>formerly smoked</td>\n",
       "      <td>1</td>\n",
       "    </tr>\n",
       "    <tr>\n",
       "      <th>1</th>\n",
       "      <td>51676</td>\n",
       "      <td>Female</td>\n",
       "      <td>61.0</td>\n",
       "      <td>0</td>\n",
       "      <td>0</td>\n",
       "      <td>Yes</td>\n",
       "      <td>Self-employed</td>\n",
       "      <td>Rural</td>\n",
       "      <td>202.21</td>\n",
       "      <td>NaN</td>\n",
       "      <td>never smoked</td>\n",
       "      <td>1</td>\n",
       "    </tr>\n",
       "    <tr>\n",
       "      <th>2</th>\n",
       "      <td>31112</td>\n",
       "      <td>Male</td>\n",
       "      <td>80.0</td>\n",
       "      <td>0</td>\n",
       "      <td>1</td>\n",
       "      <td>Yes</td>\n",
       "      <td>Private</td>\n",
       "      <td>Rural</td>\n",
       "      <td>105.92</td>\n",
       "      <td>32.5</td>\n",
       "      <td>never smoked</td>\n",
       "      <td>1</td>\n",
       "    </tr>\n",
       "    <tr>\n",
       "      <th>3</th>\n",
       "      <td>60182</td>\n",
       "      <td>Female</td>\n",
       "      <td>49.0</td>\n",
       "      <td>0</td>\n",
       "      <td>0</td>\n",
       "      <td>Yes</td>\n",
       "      <td>Private</td>\n",
       "      <td>Urban</td>\n",
       "      <td>171.23</td>\n",
       "      <td>34.4</td>\n",
       "      <td>smokes</td>\n",
       "      <td>1</td>\n",
       "    </tr>\n",
       "    <tr>\n",
       "      <th>4</th>\n",
       "      <td>1665</td>\n",
       "      <td>Female</td>\n",
       "      <td>79.0</td>\n",
       "      <td>1</td>\n",
       "      <td>0</td>\n",
       "      <td>Yes</td>\n",
       "      <td>Self-employed</td>\n",
       "      <td>Rural</td>\n",
       "      <td>174.12</td>\n",
       "      <td>24.0</td>\n",
       "      <td>never smoked</td>\n",
       "      <td>1</td>\n",
       "    </tr>\n",
       "  </tbody>\n",
       "</table>\n",
       "</div>"
      ],
      "text/plain": [
       "      id  gender   age  hypertension  heart_disease ever_married  \\\n",
       "0   9046    Male  67.0             0              1          Yes   \n",
       "1  51676  Female  61.0             0              0          Yes   \n",
       "2  31112    Male  80.0             0              1          Yes   \n",
       "3  60182  Female  49.0             0              0          Yes   \n",
       "4   1665  Female  79.0             1              0          Yes   \n",
       "\n",
       "       work_type Residence_type  avg_glucose_level   bmi   smoking_status  \\\n",
       "0        Private          Urban             228.69  36.6  formerly smoked   \n",
       "1  Self-employed          Rural             202.21   NaN     never smoked   \n",
       "2        Private          Rural             105.92  32.5     never smoked   \n",
       "3        Private          Urban             171.23  34.4           smokes   \n",
       "4  Self-employed          Rural             174.12  24.0     never smoked   \n",
       "\n",
       "   stroke  \n",
       "0       1  \n",
       "1       1  \n",
       "2       1  \n",
       "3       1  \n",
       "4       1  "
      ]
     },
     "execution_count": 3,
     "metadata": {},
     "output_type": "execute_result"
    }
   ],
   "source": [
    "dataset.head()"
   ]
  },
  {
   "cell_type": "code",
   "execution_count": 4,
   "metadata": {},
   "outputs": [
    {
     "data": {
      "text/plain": [
       "Index(['id', 'gender', 'age', 'hypertension', 'heart_disease', 'ever_married',\n",
       "       'work_type', 'Residence_type', 'avg_glucose_level', 'bmi',\n",
       "       'smoking_status', 'stroke'],\n",
       "      dtype='object')"
      ]
     },
     "execution_count": 4,
     "metadata": {},
     "output_type": "execute_result"
    }
   ],
   "source": [
    "dataset.columns"
   ]
  },
  {
   "cell_type": "code",
   "execution_count": 5,
   "metadata": {},
   "outputs": [],
   "source": [
    "features =['gender','age','hypertension','heart_disease','ever_married','work_type','Residence_type','avg_glucose_level','bmi','smoking_status']\n",
    "X = dataset[features]\n",
    "Y = dataset['stroke']"
   ]
  },
  {
   "cell_type": "code",
   "execution_count": 6,
   "metadata": {},
   "outputs": [
    {
     "data": {
      "text/html": [
       "<div>\n",
       "<style scoped>\n",
       "    .dataframe tbody tr th:only-of-type {\n",
       "        vertical-align: middle;\n",
       "    }\n",
       "\n",
       "    .dataframe tbody tr th {\n",
       "        vertical-align: top;\n",
       "    }\n",
       "\n",
       "    .dataframe thead th {\n",
       "        text-align: right;\n",
       "    }\n",
       "</style>\n",
       "<table border=\"1\" class=\"dataframe\">\n",
       "  <thead>\n",
       "    <tr style=\"text-align: right;\">\n",
       "      <th></th>\n",
       "      <th>gender</th>\n",
       "      <th>age</th>\n",
       "      <th>hypertension</th>\n",
       "      <th>heart_disease</th>\n",
       "      <th>ever_married</th>\n",
       "      <th>work_type</th>\n",
       "      <th>Residence_type</th>\n",
       "      <th>avg_glucose_level</th>\n",
       "      <th>bmi</th>\n",
       "      <th>smoking_status</th>\n",
       "    </tr>\n",
       "  </thead>\n",
       "  <tbody>\n",
       "    <tr>\n",
       "      <th>0</th>\n",
       "      <td>Male</td>\n",
       "      <td>67.0</td>\n",
       "      <td>0</td>\n",
       "      <td>1</td>\n",
       "      <td>Yes</td>\n",
       "      <td>Private</td>\n",
       "      <td>Urban</td>\n",
       "      <td>228.69</td>\n",
       "      <td>36.6</td>\n",
       "      <td>formerly smoked</td>\n",
       "    </tr>\n",
       "    <tr>\n",
       "      <th>1</th>\n",
       "      <td>Female</td>\n",
       "      <td>61.0</td>\n",
       "      <td>0</td>\n",
       "      <td>0</td>\n",
       "      <td>Yes</td>\n",
       "      <td>Self-employed</td>\n",
       "      <td>Rural</td>\n",
       "      <td>202.21</td>\n",
       "      <td>NaN</td>\n",
       "      <td>never smoked</td>\n",
       "    </tr>\n",
       "    <tr>\n",
       "      <th>2</th>\n",
       "      <td>Male</td>\n",
       "      <td>80.0</td>\n",
       "      <td>0</td>\n",
       "      <td>1</td>\n",
       "      <td>Yes</td>\n",
       "      <td>Private</td>\n",
       "      <td>Rural</td>\n",
       "      <td>105.92</td>\n",
       "      <td>32.5</td>\n",
       "      <td>never smoked</td>\n",
       "    </tr>\n",
       "    <tr>\n",
       "      <th>3</th>\n",
       "      <td>Female</td>\n",
       "      <td>49.0</td>\n",
       "      <td>0</td>\n",
       "      <td>0</td>\n",
       "      <td>Yes</td>\n",
       "      <td>Private</td>\n",
       "      <td>Urban</td>\n",
       "      <td>171.23</td>\n",
       "      <td>34.4</td>\n",
       "      <td>smokes</td>\n",
       "    </tr>\n",
       "    <tr>\n",
       "      <th>4</th>\n",
       "      <td>Female</td>\n",
       "      <td>79.0</td>\n",
       "      <td>1</td>\n",
       "      <td>0</td>\n",
       "      <td>Yes</td>\n",
       "      <td>Self-employed</td>\n",
       "      <td>Rural</td>\n",
       "      <td>174.12</td>\n",
       "      <td>24.0</td>\n",
       "      <td>never smoked</td>\n",
       "    </tr>\n",
       "    <tr>\n",
       "      <th>...</th>\n",
       "      <td>...</td>\n",
       "      <td>...</td>\n",
       "      <td>...</td>\n",
       "      <td>...</td>\n",
       "      <td>...</td>\n",
       "      <td>...</td>\n",
       "      <td>...</td>\n",
       "      <td>...</td>\n",
       "      <td>...</td>\n",
       "      <td>...</td>\n",
       "    </tr>\n",
       "    <tr>\n",
       "      <th>5105</th>\n",
       "      <td>Female</td>\n",
       "      <td>80.0</td>\n",
       "      <td>1</td>\n",
       "      <td>0</td>\n",
       "      <td>Yes</td>\n",
       "      <td>Private</td>\n",
       "      <td>Urban</td>\n",
       "      <td>83.75</td>\n",
       "      <td>NaN</td>\n",
       "      <td>never smoked</td>\n",
       "    </tr>\n",
       "    <tr>\n",
       "      <th>5106</th>\n",
       "      <td>Female</td>\n",
       "      <td>81.0</td>\n",
       "      <td>0</td>\n",
       "      <td>0</td>\n",
       "      <td>Yes</td>\n",
       "      <td>Self-employed</td>\n",
       "      <td>Urban</td>\n",
       "      <td>125.20</td>\n",
       "      <td>40.0</td>\n",
       "      <td>never smoked</td>\n",
       "    </tr>\n",
       "    <tr>\n",
       "      <th>5107</th>\n",
       "      <td>Female</td>\n",
       "      <td>35.0</td>\n",
       "      <td>0</td>\n",
       "      <td>0</td>\n",
       "      <td>Yes</td>\n",
       "      <td>Self-employed</td>\n",
       "      <td>Rural</td>\n",
       "      <td>82.99</td>\n",
       "      <td>30.6</td>\n",
       "      <td>never smoked</td>\n",
       "    </tr>\n",
       "    <tr>\n",
       "      <th>5108</th>\n",
       "      <td>Male</td>\n",
       "      <td>51.0</td>\n",
       "      <td>0</td>\n",
       "      <td>0</td>\n",
       "      <td>Yes</td>\n",
       "      <td>Private</td>\n",
       "      <td>Rural</td>\n",
       "      <td>166.29</td>\n",
       "      <td>25.6</td>\n",
       "      <td>formerly smoked</td>\n",
       "    </tr>\n",
       "    <tr>\n",
       "      <th>5109</th>\n",
       "      <td>Female</td>\n",
       "      <td>44.0</td>\n",
       "      <td>0</td>\n",
       "      <td>0</td>\n",
       "      <td>Yes</td>\n",
       "      <td>Govt_job</td>\n",
       "      <td>Urban</td>\n",
       "      <td>85.28</td>\n",
       "      <td>26.2</td>\n",
       "      <td>Unknown</td>\n",
       "    </tr>\n",
       "  </tbody>\n",
       "</table>\n",
       "<p>5110 rows × 10 columns</p>\n",
       "</div>"
      ],
      "text/plain": [
       "      gender   age  hypertension  heart_disease ever_married      work_type  \\\n",
       "0       Male  67.0             0              1          Yes        Private   \n",
       "1     Female  61.0             0              0          Yes  Self-employed   \n",
       "2       Male  80.0             0              1          Yes        Private   \n",
       "3     Female  49.0             0              0          Yes        Private   \n",
       "4     Female  79.0             1              0          Yes  Self-employed   \n",
       "...      ...   ...           ...            ...          ...            ...   \n",
       "5105  Female  80.0             1              0          Yes        Private   \n",
       "5106  Female  81.0             0              0          Yes  Self-employed   \n",
       "5107  Female  35.0             0              0          Yes  Self-employed   \n",
       "5108    Male  51.0             0              0          Yes        Private   \n",
       "5109  Female  44.0             0              0          Yes       Govt_job   \n",
       "\n",
       "     Residence_type  avg_glucose_level   bmi   smoking_status  \n",
       "0             Urban             228.69  36.6  formerly smoked  \n",
       "1             Rural             202.21   NaN     never smoked  \n",
       "2             Rural             105.92  32.5     never smoked  \n",
       "3             Urban             171.23  34.4           smokes  \n",
       "4             Rural             174.12  24.0     never smoked  \n",
       "...             ...                ...   ...              ...  \n",
       "5105          Urban              83.75   NaN     never smoked  \n",
       "5106          Urban             125.20  40.0     never smoked  \n",
       "5107          Rural              82.99  30.6     never smoked  \n",
       "5108          Rural             166.29  25.6  formerly smoked  \n",
       "5109          Urban              85.28  26.2          Unknown  \n",
       "\n",
       "[5110 rows x 10 columns]"
      ]
     },
     "execution_count": 6,
     "metadata": {},
     "output_type": "execute_result"
    }
   ],
   "source": [
    "X"
   ]
  },
  {
   "cell_type": "code",
   "execution_count": 7,
   "metadata": {},
   "outputs": [
    {
     "data": {
      "text/plain": [
       "<matplotlib.axes._subplots.AxesSubplot at 0x1d54cfd0d88>"
      ]
     },
     "execution_count": 7,
     "metadata": {},
     "output_type": "execute_result"
    },
    {
     "data": {
      "image/png": "[encoded data removed]",
      "text/plain": [
       "<Figure size 432x288 with 1 Axes>"
      ]
     },
     "metadata": {
      "needs_background": "light"
     },
     "output_type": "display_data"
    }
   ],
   "source": [
    "sns.countplot(x=\"stroke\",data=dataset)"
   ]
  },
  {
   "cell_type": "code",
   "execution_count": 8,
   "metadata": {},
   "outputs": [
    {
     "data": {
      "text/plain": [
       "<matplotlib.axes._subplots.AxesSubplot at 0x1d54e453148>"
      ]
     },
     "execution_count": 8,
     "metadata": {},
     "output_type": "execute_result"
    },
    {
     "data": {
      "image/png": "[encoded data removed]",
      "text/plain": [
       "<Figure size 432x288 with 1 Axes>"
      ]
     },
     "metadata": {
      "needs_background": "light"
     },
     "output_type": "display_data"
    }
   ],
   "source": [
    "sns.countplot(x=\"gender\",data=dataset)"
   ]
  },
  {
   "cell_type": "code",
   "execution_count": 9,
   "metadata": {},
   "outputs": [
    {
     "data": {
      "text/plain": [
       "<matplotlib.axes._subplots.AxesSubplot at 0x1d54e4d3148>"
      ]
     },
     "execution_count": 9,
     "metadata": {},
     "output_type": "execute_result"
    },
    {
     "data": {
      "image/png": "[encoded data removed]",
      "text/plain": [
       "<Figure size 432x288 with 1 Axes>"
      ]
     },
     "metadata": {
      "needs_background": "light"
     },
     "output_type": "display_data"
    }
   ],
   "source": [
    "sns.countplot(x=\"hypertension\",data=dataset)"
   ]
  },
  {
   "cell_type": "code",
   "execution_count": 10,
   "metadata": {},
   "outputs": [
    {
     "data": {
      "text/plain": [
       "<matplotlib.axes._subplots.AxesSubplot at 0x1d54e520688>"
      ]
     },
     "execution_count": 10,
     "metadata": {},
     "output_type": "execute_result"
    },
    {
     "data": {
      "image/png": "[encoded data removed]",
      "text/plain": [
       "<Figure size 432x288 with 1 Axes>"
      ]
     },
     "metadata": {
      "needs_background": "light"
     },
     "output_type": "display_data"
    }
   ],
   "source": [
    "sns.countplot(x=\"heart_disease\",data=dataset)"
   ]
  },
  {
   "cell_type": "code",
   "execution_count": 11,
   "metadata": {},
   "outputs": [
    {
     "data": {
      "text/plain": [
       "<matplotlib.axes._subplots.AxesSubplot at 0x1d54cab3d48>"
      ]
     },
     "execution_count": 11,
     "metadata": {},
     "output_type": "execute_result"
    },
    {
     "data": {
      "image/png": "[encoded data removed]",
      "text/plain": [
       "<Figure size 432x288 with 1 Axes>"
      ]
     },
     "metadata": {
      "needs_background": "light"
     },
     "output_type": "display_data"
    }
   ],
   "source": [
    "sns.countplot(x=\"ever_married\",data=dataset)"
   ]
  },
  {
   "cell_type": "code",
   "execution_count": 12,
   "metadata": {},
   "outputs": [
    {
     "data": {
      "text/plain": [
       "<matplotlib.axes._subplots.AxesSubplot at 0x1d54e5db108>"
      ]
     },
     "execution_count": 12,
     "metadata": {},
     "output_type": "execute_result"
    },
    {
     "data": {
      "image/png": "[encoded data removed]",
      "text/plain": [
       "<Figure size 432x288 with 1 Axes>"
      ]
     },
     "metadata": {
      "needs_background": "light"
     },
     "output_type": "display_data"
    }
   ],
   "source": [
    "sns.countplot(x=\"work_type\",data=dataset)"
   ]
  },
  {
   "cell_type": "code",
   "execution_count": 13,
   "metadata": {},
   "outputs": [
    {
     "data": {
      "text/plain": [
       "<matplotlib.axes._subplots.AxesSubplot at 0x1d54e6413c8>"
      ]
     },
     "execution_count": 13,
     "metadata": {},
     "output_type": "execute_result"
    },
    {
     "data": {
      "image/png": "[encoded data removed]",
      "text/plain": [
       "<Figure size 432x288 with 1 Axes>"
      ]
     },
     "metadata": {
      "needs_background": "light"
     },
     "output_type": "display_data"
    }
   ],
   "source": [
    "sns.countplot(x=\"Residence_type\",data=dataset)"
   ]
  },
  {
   "cell_type": "code",
   "execution_count": 14,
   "metadata": {},
   "outputs": [
    {
     "data": {
      "text/plain": [
       "<matplotlib.axes._subplots.AxesSubplot at 0x1d54e68fa08>"
      ]
     },
     "execution_count": 14,
     "metadata": {},
     "output_type": "execute_result"
    },
    {
     "data": {
      "image/png": "[encoded data removed]",
      "text/plain": [
       "<Figure size 432x288 with 1 Axes>"
      ]
     },
     "metadata": {
      "needs_background": "light"
     },
     "output_type": "display_data"
    }
   ],
   "source": [
    "sns.countplot(x=\"smoking_status\",data=dataset)"
   ]
  },
  {
   "cell_type": "code",
   "execution_count": 15,
   "metadata": {},
   "outputs": [
    {
     "data": {
      "image/png": "[encoded data removed]",
      "text/plain": [
       "<Figure size 432x288 with 1 Axes>"
      ]
     },
     "metadata": {
      "needs_background": "light"
     },
     "output_type": "display_data"
    }
   ],
   "source": [
    "ax = sns.boxplot(x=\"stroke\", y=\"bmi\", data=dataset)"
   ]
  },
  {
   "cell_type": "code",
   "execution_count": 16,
   "metadata": {},
   "outputs": [
    {
     "data": {
      "image/png": "[encoded data removed]",
      "text/plain": [
       "<Figure size 432x288 with 1 Axes>"
      ]
     },
     "metadata": {
      "needs_background": "light"
     },
     "output_type": "display_data"
    }
   ],
   "source": [
    "ax = sns.boxplot(x=\"stroke\", y=\"avg_glucose_level\", data=dataset)"
   ]
  },
  {
   "cell_type": "code",
   "execution_count": 17,
   "metadata": {},
   "outputs": [
    {
     "data": {
      "image/png": "[encoded data removed]",
      "text/plain": [
       "<Figure size 432x288 with 1 Axes>"
      ]
     },
     "metadata": {
      "needs_background": "light"
     },
     "output_type": "display_data"
    }
   ],
   "source": [
    "ax = sns.boxplot(x=\"stroke\", y=\"age\", data=dataset)"
   ]
  },
  {
   "cell_type": "markdown",
   "metadata": {},
   "source": [
    "### Treating NaN, null Values"
   ]
  },
  {
   "cell_type": "code",
   "execution_count": 18,
   "metadata": {},
   "outputs": [
    {
     "data": {
      "text/plain": [
       "id                     0\n",
       "gender                 0\n",
       "age                    0\n",
       "hypertension           0\n",
       "heart_disease          0\n",
       "ever_married           0\n",
       "work_type              0\n",
       "Residence_type         0\n",
       "avg_glucose_level      0\n",
       "bmi                  201\n",
       "smoking_status         0\n",
       "stroke                 0\n",
       "dtype: int64"
      ]
     },
     "execution_count": 18,
     "metadata": {},
     "output_type": "execute_result"
    }
   ],
   "source": [
    "dataset.isnull().sum()"
   ]
  },
  {
   "cell_type": "code",
   "execution_count": 19,
   "metadata": {},
   "outputs": [
    {
     "name": "stdout",
     "output_type": "stream",
     "text": [
      "gender               0\n",
      "age                  0\n",
      "hypertension         0\n",
      "heart_disease        0\n",
      "ever_married         0\n",
      "work_type            0\n",
      "Residence_type       0\n",
      "avg_glucose_level    0\n",
      "bmi                  0\n",
      "smoking_status       0\n",
      "dtype: int64\n"
     ]
    },
    {
     "name": "stderr",
     "output_type": "stream",
     "text": [
      "C:\\Anaconda3\\envs\\tensorflow_en\\lib\\site-packages\\pandas\\core\\indexing.py:966: SettingWithCopyWarning: \n",
      "A value is trying to be set on a copy of a slice from a DataFrame.\n",
      "Try using .loc[row_indexer,col_indexer] = value instead\n",
      "\n",
      "See the caveats in the documentation: https://pandas.pydata.org/pandas-docs/stable/user_guide/indexing.html#returning-a-view-versus-a-copy\n",
      "  self.obj[item] = s\n"
     ]
    }
   ],
   "source": [
    "# Replacing Null Numeric vals\n",
    "\n",
    "from sklearn.impute import SimpleImputer\n",
    "imputer = SimpleImputer(missing_values=np.nan, strategy = 'mean')\n",
    "imputer.fit(X.iloc[:,8:9])\n",
    "X.iloc[:,8:9] = imputer.transform(X.iloc[:,8:9])\n",
    "print(X.isnull().sum())"
   ]
  },
  {
   "cell_type": "code",
   "execution_count": 20,
   "metadata": {},
   "outputs": [
    {
     "data": {
      "image/png": "[encoded data removed]",
      "text/plain": [
       "<Figure size 864x576 with 2 Axes>"
      ]
     },
     "metadata": {
      "needs_background": "light"
     },
     "output_type": "display_data"
    }
   ],
   "source": [
    "# dropping the rows having NaN values \n",
    "# df = pd.DataFrame(X)   \n",
    "# df = df.dropna()   \n",
    "# print(df)\n",
    "plt.figure(figsize = (12, 8))\n",
    "sns.heatmap(dataset.corr(), linecolor = 'white', linewidths = 1, annot = True)\n",
    "plt.show()"
   ]
  },
  {
   "cell_type": "code",
   "execution_count": 21,
   "metadata": {},
   "outputs": [
    {
     "data": {
      "text/plain": [
       "Female    2994\n",
       "Male      2115\n",
       "Other        1\n",
       "Name: gender, dtype: int64"
      ]
     },
     "execution_count": 21,
     "metadata": {},
     "output_type": "execute_result"
    }
   ],
   "source": [
    "X['gender'].value_counts()"
   ]
  },
  {
   "cell_type": "code",
   "execution_count": 22,
   "metadata": {},
   "outputs": [],
   "source": [
    "# from sklearn.utils import resample\n",
    "\n",
    "# train_data = pd.concat([X, Y], axis=1)\n",
    "# # separate minority and majority classes\n",
    "# negative = train_data[train_data.stroke==0]\n",
    "# positive = train_data[train_data.stroke==1]\n",
    "# # upsample minority\n",
    "# pos_upsampled = resample(positive,\n",
    "#  replace=True, # sample with replacement\n",
    "#  n_samples=len(negative), # match number in majority class\n",
    "#  random_state=27) # reproducible results\n",
    "# # combine majority and upsampled minority\n",
    "# upsampled = pd.concat([negative, pos_upsampled])\n",
    "# # check new class counts\n",
    "# upsampled.stroke.value_counts()"
   ]
  },
  {
   "cell_type": "code",
   "execution_count": 23,
   "metadata": {},
   "outputs": [
    {
     "name": "stdout",
     "output_type": "stream",
     "text": [
      "      gender   age  hypertension  heart_disease ever_married      work_type  \\\n",
      "0       Male  67.0             0              1          Yes        Private   \n",
      "1     Female  61.0             0              0          Yes  Self-employed   \n",
      "2       Male  80.0             0              1          Yes        Private   \n",
      "3     Female  49.0             0              0          Yes        Private   \n",
      "4     Female  79.0             1              0          Yes  Self-employed   \n",
      "...      ...   ...           ...            ...          ...            ...   \n",
      "5105  Female  80.0             1              0          Yes        Private   \n",
      "5106  Female  81.0             0              0          Yes  Self-employed   \n",
      "5107  Female  35.0             0              0          Yes  Self-employed   \n",
      "5108    Male  51.0             0              0          Yes        Private   \n",
      "5109  Female  44.0             0              0          Yes       Govt_job   \n",
      "\n",
      "     Residence_type  avg_glucose_level        bmi   smoking_status  \n",
      "0             Urban             228.69  36.600000  formerly smoked  \n",
      "1             Rural             202.21  28.893237     never smoked  \n",
      "2             Rural             105.92  32.500000     never smoked  \n",
      "3             Urban             171.23  34.400000           smokes  \n",
      "4             Rural             174.12  24.000000     never smoked  \n",
      "...             ...                ...        ...              ...  \n",
      "5105          Urban              83.75  28.893237     never smoked  \n",
      "5106          Urban             125.20  40.000000     never smoked  \n",
      "5107          Rural              82.99  30.600000     never smoked  \n",
      "5108          Rural             166.29  25.600000  formerly smoked  \n",
      "5109          Urban              85.28  26.200000          Unknown  \n",
      "\n",
      "[5110 rows x 10 columns] 0       1\n",
      "1       1\n",
      "2       1\n",
      "3       1\n",
      "4       1\n",
      "       ..\n",
      "5105    0\n",
      "5106    0\n",
      "5107    0\n",
      "5108    0\n",
      "5109    0\n",
      "Name: stroke, Length: 5110, dtype: int64\n"
     ]
    }
   ],
   "source": [
    "# X = upsampled.iloc[:, 0:10]\n",
    "# Y = upsampled.iloc[:,10:11]\n",
    "# del X_train['stroke']\n",
    "print(X,Y)"
   ]
  },
  {
   "cell_type": "markdown",
   "metadata": {},
   "source": [
    "### Treating Categorical Variables\n"
   ]
  },
  {
   "cell_type": "code",
   "execution_count": 24,
   "metadata": {},
   "outputs": [
    {
     "name": "stdout",
     "output_type": "stream",
     "text": [
      "Column Name: gender\n",
      "Female    2994\n",
      "Male      2115\n",
      "Other        1\n",
      "Name: gender, dtype: int64\n",
      "Column Name: ever_married\n",
      "Yes    3353\n",
      "No     1757\n",
      "Name: ever_married, dtype: int64\n",
      "Column Name: work_type\n",
      "Private          2925\n",
      "Self-employed     819\n",
      "children          687\n",
      "Govt_job          657\n",
      "Never_worked       22\n",
      "Name: work_type, dtype: int64\n",
      "Column Name: Residence_type\n",
      "Urban    2596\n",
      "Rural    2514\n",
      "Name: Residence_type, dtype: int64\n",
      "Column Name: smoking_status\n",
      "never smoked       1892\n",
      "Unknown            1544\n",
      "formerly smoked     885\n",
      "smokes              789\n",
      "Name: smoking_status, dtype: int64\n"
     ]
    }
   ],
   "source": [
    "X.dtypes\n",
    "Categorical_cols = ['gender','ever_married','work_type','Residence_type','smoking_status']\n",
    "for col in Categorical_cols:\n",
    "    print('Column Name: ' +col)\n",
    "    print(X[col].value_counts())"
   ]
  },
  {
   "cell_type": "code",
   "execution_count": 25,
   "metadata": {},
   "outputs": [],
   "source": [
    "# Treating Independent Varibles\n",
    "\n",
    "\n",
    "# from sklearn.compose import ColumnTransformer\n",
    "# from sklearn.preprocessing import OneHotEncoder\n",
    "# ct = ColumnTransformer(transformers = [('encoder', OneHotEncoder(), [0])], remainder = 'passthrough')\n",
    "# df = np.array(ct.fit_transform(df))\n",
    "\n",
    "                    #OR\n",
    "\n",
    "from sklearn.preprocessing import OneHotEncoder\n",
    "\n",
    "# Apply one-hot encoder to each column with categorical data\n",
    "OH_encoder = OneHotEncoder(handle_unknown='ignore', sparse=False)\n",
    "X_encoded = pd.DataFrame(OH_encoder.fit_transform(X[Categorical_cols]))\n",
    "\n",
    "# One-hot encoding removed index; put it back\n",
    "X_encoded.index = X.index\n",
    "\n",
    "# Remove categorical columns (will replace with one-hot encoding)\n",
    "num_X = X.drop(Categorical_cols, axis=1)\n",
    "\n",
    "# Add one-hot encoded columns to numerical features\n",
    "OH_X = pd.concat([num_X, X_encoded], axis=1)"
   ]
  },
  {
   "cell_type": "code",
   "execution_count": 26,
   "metadata": {},
   "outputs": [
    {
     "name": "stdout",
     "output_type": "stream",
     "text": [
      "       age  hypertension  heart_disease  avg_glucose_level        bmi    0  \\\n",
      "0     67.0             0              1             228.69  36.600000  0.0   \n",
      "1     61.0             0              0             202.21  28.893237  1.0   \n",
      "2     80.0             0              1             105.92  32.500000  0.0   \n",
      "3     49.0             0              0             171.23  34.400000  1.0   \n",
      "4     79.0             1              0             174.12  24.000000  1.0   \n",
      "...    ...           ...            ...                ...        ...  ...   \n",
      "5105  80.0             1              0              83.75  28.893237  1.0   \n",
      "5106  81.0             0              0             125.20  40.000000  1.0   \n",
      "5107  35.0             0              0              82.99  30.600000  1.0   \n",
      "5108  51.0             0              0             166.29  25.600000  0.0   \n",
      "5109  44.0             0              0              85.28  26.200000  1.0   \n",
      "\n",
      "        1    2    3    4  ...    6    7    8    9   10   11   12   13   14  \\\n",
      "0     1.0  0.0  0.0  1.0  ...  0.0  1.0  0.0  0.0  0.0  1.0  0.0  1.0  0.0   \n",
      "1     0.0  0.0  0.0  1.0  ...  0.0  0.0  1.0  0.0  1.0  0.0  0.0  0.0  1.0   \n",
      "2     1.0  0.0  0.0  1.0  ...  0.0  1.0  0.0  0.0  1.0  0.0  0.0  0.0  1.0   \n",
      "3     0.0  0.0  0.0  1.0  ...  0.0  1.0  0.0  0.0  0.0  1.0  0.0  0.0  0.0   \n",
      "4     0.0  0.0  0.0  1.0  ...  0.0  0.0  1.0  0.0  1.0  0.0  0.0  0.0  1.0   \n",
      "...   ...  ...  ...  ...  ...  ...  ...  ...  ...  ...  ...  ...  ...  ...   \n",
      "5105  0.0  0.0  0.0  1.0  ...  0.0  1.0  0.0  0.0  0.0  1.0  0.0  0.0  1.0   \n",
      "5106  0.0  0.0  0.0  1.0  ...  0.0  0.0  1.0  0.0  0.0  1.0  0.0  0.0  1.0   \n",
      "5107  0.0  0.0  0.0  1.0  ...  0.0  0.0  1.0  0.0  1.0  0.0  0.0  0.0  1.0   \n",
      "5108  1.0  0.0  0.0  1.0  ...  0.0  1.0  0.0  0.0  1.0  0.0  0.0  1.0  0.0   \n",
      "5109  0.0  0.0  0.0  1.0  ...  0.0  0.0  0.0  0.0  0.0  1.0  1.0  0.0  0.0   \n",
      "\n",
      "       15  \n",
      "0     0.0  \n",
      "1     0.0  \n",
      "2     0.0  \n",
      "3     1.0  \n",
      "4     0.0  \n",
      "...   ...  \n",
      "5105  0.0  \n",
      "5106  0.0  \n",
      "5107  0.0  \n",
      "5108  0.0  \n",
      "5109  0.0  \n",
      "\n",
      "[5110 rows x 21 columns]\n"
     ]
    }
   ],
   "source": [
    "print(OH_X)"
   ]
  },
  {
   "cell_type": "code",
   "execution_count": 27,
   "metadata": {},
   "outputs": [
    {
     "data": {
      "text/html": [
       "<div>\n",
       "<style scoped>\n",
       "    .dataframe tbody tr th:only-of-type {\n",
       "        vertical-align: middle;\n",
       "    }\n",
       "\n",
       "    .dataframe tbody tr th {\n",
       "        vertical-align: top;\n",
       "    }\n",
       "\n",
       "    .dataframe thead th {\n",
       "        text-align: right;\n",
       "    }\n",
       "</style>\n",
       "<table border=\"1\" class=\"dataframe\">\n",
       "  <thead>\n",
       "    <tr style=\"text-align: right;\">\n",
       "      <th></th>\n",
       "      <th>age</th>\n",
       "      <th>hypertension</th>\n",
       "      <th>heart_disease</th>\n",
       "      <th>avg_glucose_level</th>\n",
       "      <th>bmi</th>\n",
       "      <th>0</th>\n",
       "      <th>1</th>\n",
       "      <th>2</th>\n",
       "      <th>3</th>\n",
       "      <th>4</th>\n",
       "      <th>...</th>\n",
       "      <th>6</th>\n",
       "      <th>7</th>\n",
       "      <th>8</th>\n",
       "      <th>9</th>\n",
       "      <th>10</th>\n",
       "      <th>11</th>\n",
       "      <th>12</th>\n",
       "      <th>13</th>\n",
       "      <th>14</th>\n",
       "      <th>15</th>\n",
       "    </tr>\n",
       "  </thead>\n",
       "  <tbody>\n",
       "    <tr>\n",
       "      <th>count</th>\n",
       "      <td>5110.000000</td>\n",
       "      <td>5110.000000</td>\n",
       "      <td>5110.000000</td>\n",
       "      <td>5110.000000</td>\n",
       "      <td>5110.000000</td>\n",
       "      <td>5110.000000</td>\n",
       "      <td>5110.000000</td>\n",
       "      <td>5110.000000</td>\n",
       "      <td>5110.000000</td>\n",
       "      <td>5110.000000</td>\n",
       "      <td>...</td>\n",
       "      <td>5110.000000</td>\n",
       "      <td>5110.000000</td>\n",
       "      <td>5110.000000</td>\n",
       "      <td>5110.000000</td>\n",
       "      <td>5110.000000</td>\n",
       "      <td>5110.000000</td>\n",
       "      <td>5110.000000</td>\n",
       "      <td>5110.000000</td>\n",
       "      <td>5110.000000</td>\n",
       "      <td>5110.000000</td>\n",
       "    </tr>\n",
       "    <tr>\n",
       "      <th>mean</th>\n",
       "      <td>43.226614</td>\n",
       "      <td>0.097456</td>\n",
       "      <td>0.054012</td>\n",
       "      <td>106.147677</td>\n",
       "      <td>28.893237</td>\n",
       "      <td>0.585910</td>\n",
       "      <td>0.413894</td>\n",
       "      <td>0.000196</td>\n",
       "      <td>0.343836</td>\n",
       "      <td>0.656164</td>\n",
       "      <td>...</td>\n",
       "      <td>0.004305</td>\n",
       "      <td>0.572407</td>\n",
       "      <td>0.160274</td>\n",
       "      <td>0.134442</td>\n",
       "      <td>0.491977</td>\n",
       "      <td>0.508023</td>\n",
       "      <td>0.302153</td>\n",
       "      <td>0.173190</td>\n",
       "      <td>0.370254</td>\n",
       "      <td>0.154403</td>\n",
       "    </tr>\n",
       "    <tr>\n",
       "      <th>std</th>\n",
       "      <td>22.612647</td>\n",
       "      <td>0.296607</td>\n",
       "      <td>0.226063</td>\n",
       "      <td>45.283560</td>\n",
       "      <td>7.698018</td>\n",
       "      <td>0.492612</td>\n",
       "      <td>0.492578</td>\n",
       "      <td>0.013989</td>\n",
       "      <td>0.475034</td>\n",
       "      <td>0.475034</td>\n",
       "      <td>...</td>\n",
       "      <td>0.065480</td>\n",
       "      <td>0.494778</td>\n",
       "      <td>0.366896</td>\n",
       "      <td>0.341160</td>\n",
       "      <td>0.499985</td>\n",
       "      <td>0.499985</td>\n",
       "      <td>0.459236</td>\n",
       "      <td>0.378448</td>\n",
       "      <td>0.482920</td>\n",
       "      <td>0.361370</td>\n",
       "    </tr>\n",
       "    <tr>\n",
       "      <th>min</th>\n",
       "      <td>0.080000</td>\n",
       "      <td>0.000000</td>\n",
       "      <td>0.000000</td>\n",
       "      <td>55.120000</td>\n",
       "      <td>10.300000</td>\n",
       "      <td>0.000000</td>\n",
       "      <td>0.000000</td>\n",
       "      <td>0.000000</td>\n",
       "      <td>0.000000</td>\n",
       "      <td>0.000000</td>\n",
       "      <td>...</td>\n",
       "      <td>0.000000</td>\n",
       "      <td>0.000000</td>\n",
       "      <td>0.000000</td>\n",
       "      <td>0.000000</td>\n",
       "      <td>0.000000</td>\n",
       "      <td>0.000000</td>\n",
       "      <td>0.000000</td>\n",
       "      <td>0.000000</td>\n",
       "      <td>0.000000</td>\n",
       "      <td>0.000000</td>\n",
       "    </tr>\n",
       "    <tr>\n",
       "      <th>25%</th>\n",
       "      <td>25.000000</td>\n",
       "      <td>0.000000</td>\n",
       "      <td>0.000000</td>\n",
       "      <td>77.245000</td>\n",
       "      <td>23.800000</td>\n",
       "      <td>0.000000</td>\n",
       "      <td>0.000000</td>\n",
       "      <td>0.000000</td>\n",
       "      <td>0.000000</td>\n",
       "      <td>0.000000</td>\n",
       "      <td>...</td>\n",
       "      <td>0.000000</td>\n",
       "      <td>0.000000</td>\n",
       "      <td>0.000000</td>\n",
       "      <td>0.000000</td>\n",
       "      <td>0.000000</td>\n",
       "      <td>0.000000</td>\n",
       "      <td>0.000000</td>\n",
       "      <td>0.000000</td>\n",
       "      <td>0.000000</td>\n",
       "      <td>0.000000</td>\n",
       "    </tr>\n",
       "    <tr>\n",
       "      <th>50%</th>\n",
       "      <td>45.000000</td>\n",
       "      <td>0.000000</td>\n",
       "      <td>0.000000</td>\n",
       "      <td>91.885000</td>\n",
       "      <td>28.400000</td>\n",
       "      <td>1.000000</td>\n",
       "      <td>0.000000</td>\n",
       "      <td>0.000000</td>\n",
       "      <td>0.000000</td>\n",
       "      <td>1.000000</td>\n",
       "      <td>...</td>\n",
       "      <td>0.000000</td>\n",
       "      <td>1.000000</td>\n",
       "      <td>0.000000</td>\n",
       "      <td>0.000000</td>\n",
       "      <td>0.000000</td>\n",
       "      <td>1.000000</td>\n",
       "      <td>0.000000</td>\n",
       "      <td>0.000000</td>\n",
       "      <td>0.000000</td>\n",
       "      <td>0.000000</td>\n",
       "    </tr>\n",
       "    <tr>\n",
       "      <th>75%</th>\n",
       "      <td>61.000000</td>\n",
       "      <td>0.000000</td>\n",
       "      <td>0.000000</td>\n",
       "      <td>114.090000</td>\n",
       "      <td>32.800000</td>\n",
       "      <td>1.000000</td>\n",
       "      <td>1.000000</td>\n",
       "      <td>0.000000</td>\n",
       "      <td>1.000000</td>\n",
       "      <td>1.000000</td>\n",
       "      <td>...</td>\n",
       "      <td>0.000000</td>\n",
       "      <td>1.000000</td>\n",
       "      <td>0.000000</td>\n",
       "      <td>0.000000</td>\n",
       "      <td>1.000000</td>\n",
       "      <td>1.000000</td>\n",
       "      <td>1.000000</td>\n",
       "      <td>0.000000</td>\n",
       "      <td>1.000000</td>\n",
       "      <td>0.000000</td>\n",
       "    </tr>\n",
       "    <tr>\n",
       "      <th>max</th>\n",
       "      <td>82.000000</td>\n",
       "      <td>1.000000</td>\n",
       "      <td>1.000000</td>\n",
       "      <td>271.740000</td>\n",
       "      <td>97.600000</td>\n",
       "      <td>1.000000</td>\n",
       "      <td>1.000000</td>\n",
       "      <td>1.000000</td>\n",
       "      <td>1.000000</td>\n",
       "      <td>1.000000</td>\n",
       "      <td>...</td>\n",
       "      <td>1.000000</td>\n",
       "      <td>1.000000</td>\n",
       "      <td>1.000000</td>\n",
       "      <td>1.000000</td>\n",
       "      <td>1.000000</td>\n",
       "      <td>1.000000</td>\n",
       "      <td>1.000000</td>\n",
       "      <td>1.000000</td>\n",
       "      <td>1.000000</td>\n",
       "      <td>1.000000</td>\n",
       "    </tr>\n",
       "  </tbody>\n",
       "</table>\n",
       "<p>8 rows × 21 columns</p>\n",
       "</div>"
      ],
      "text/plain": [
       "               age  hypertension  heart_disease  avg_glucose_level  \\\n",
       "count  5110.000000   5110.000000    5110.000000        5110.000000   \n",
       "mean     43.226614      0.097456       0.054012         106.147677   \n",
       "std      22.612647      0.296607       0.226063          45.283560   \n",
       "min       0.080000      0.000000       0.000000          55.120000   \n",
       "25%      25.000000      0.000000       0.000000          77.245000   \n",
       "50%      45.000000      0.000000       0.000000          91.885000   \n",
       "75%      61.000000      0.000000       0.000000         114.090000   \n",
       "max      82.000000      1.000000       1.000000         271.740000   \n",
       "\n",
       "               bmi            0            1            2            3  \\\n",
       "count  5110.000000  5110.000000  5110.000000  5110.000000  5110.000000   \n",
       "mean     28.893237     0.585910     0.413894     0.000196     0.343836   \n",
       "std       7.698018     0.492612     0.492578     0.013989     0.475034   \n",
       "min      10.300000     0.000000     0.000000     0.000000     0.000000   \n",
       "25%      23.800000     0.000000     0.000000     0.000000     0.000000   \n",
       "50%      28.400000     1.000000     0.000000     0.000000     0.000000   \n",
       "75%      32.800000     1.000000     1.000000     0.000000     1.000000   \n",
       "max      97.600000     1.000000     1.000000     1.000000     1.000000   \n",
       "\n",
       "                 4  ...            6            7            8            9  \\\n",
       "count  5110.000000  ...  5110.000000  5110.000000  5110.000000  5110.000000   \n",
       "mean      0.656164  ...     0.004305     0.572407     0.160274     0.134442   \n",
       "std       0.475034  ...     0.065480     0.494778     0.366896     0.341160   \n",
       "min       0.000000  ...     0.000000     0.000000     0.000000     0.000000   \n",
       "25%       0.000000  ...     0.000000     0.000000     0.000000     0.000000   \n",
       "50%       1.000000  ...     0.000000     1.000000     0.000000     0.000000   \n",
       "75%       1.000000  ...     0.000000     1.000000     0.000000     0.000000   \n",
       "max       1.000000  ...     1.000000     1.000000     1.000000     1.000000   \n",
       "\n",
       "                10           11           12           13           14  \\\n",
       "count  5110.000000  5110.000000  5110.000000  5110.000000  5110.000000   \n",
       "mean      0.491977     0.508023     0.302153     0.173190     0.370254   \n",
       "std       0.499985     0.499985     0.459236     0.378448     0.482920   \n",
       "min       0.000000     0.000000     0.000000     0.000000     0.000000   \n",
       "25%       0.000000     0.000000     0.000000     0.000000     0.000000   \n",
       "50%       0.000000     1.000000     0.000000     0.000000     0.000000   \n",
       "75%       1.000000     1.000000     1.000000     0.000000     1.000000   \n",
       "max       1.000000     1.000000     1.000000     1.000000     1.000000   \n",
       "\n",
       "                15  \n",
       "count  5110.000000  \n",
       "mean      0.154403  \n",
       "std       0.361370  \n",
       "min       0.000000  \n",
       "25%       0.000000  \n",
       "50%       0.000000  \n",
       "75%       0.000000  \n",
       "max       1.000000  \n",
       "\n",
       "[8 rows x 21 columns]"
      ]
     },
     "execution_count": 27,
     "metadata": {},
     "output_type": "execute_result"
    }
   ],
   "source": [
    "OH_X.describe()"
   ]
  },
  {
   "cell_type": "code",
   "execution_count": 28,
   "metadata": {},
   "outputs": [
    {
     "data": {
      "text/plain": [
       "0       1\n",
       "1       1\n",
       "2       1\n",
       "3       1\n",
       "4       1\n",
       "       ..\n",
       "5105    0\n",
       "5106    0\n",
       "5107    0\n",
       "5108    0\n",
       "5109    0\n",
       "Name: stroke, Length: 5110, dtype: int64"
      ]
     },
     "execution_count": 28,
     "metadata": {},
     "output_type": "execute_result"
    }
   ],
   "source": [
    "Y"
   ]
  },
  {
   "cell_type": "code",
   "execution_count": 29,
   "metadata": {},
   "outputs": [
    {
     "name": "stdout",
     "output_type": "stream",
     "text": [
      "before : Counter({0: 4861, 1: 249})\n",
      "after : Counter({0: 4861, 1: 4806})\n"
     ]
    }
   ],
   "source": [
    "from imblearn.over_sampling import ADASYN\n",
    "from collections import Counter\n",
    "counter = Counter(Y)\n",
    "print('before :',counter)\n",
    "ADA = ADASYN(random_state=130,sampling_strategy='minority')\n",
    "OH_X,Y = ADA.fit_resample(OH_X,Y)\n",
    "counter = Counter(Y)\n",
    "print(\"after :\",counter)"
   ]
  },
  {
   "cell_type": "markdown",
   "metadata": {},
   "source": [
    "### Splitting Dataset\n"
   ]
  },
  {
   "cell_type": "code",
   "execution_count": 30,
   "metadata": {},
   "outputs": [],
   "source": [
    "from sklearn.model_selection import train_test_split\n",
    "X_train , X_test, Y_train, Y_test = train_test_split(OH_X, Y, test_size = 0.2, random_state = 1)"
   ]
  },
  {
   "cell_type": "markdown",
   "metadata": {},
   "source": [
    "### Feature Scaling\n"
   ]
  },
  {
   "cell_type": "code",
   "execution_count": 31,
   "metadata": {},
   "outputs": [],
   "source": [
    "# from sklearn.decomposition import PCA\n",
    "# pca = PCA(n_components = 2)\n",
    "# X_train = pca.fit_transform(X_train)\n",
    "# X_test = pca.transform(X_test)\n",
    "# explained_variance = pca.explained_variance_ratio_\n",
    "# print(explained_variance)"
   ]
  },
  {
   "cell_type": "code",
   "execution_count": 32,
   "metadata": {},
   "outputs": [
    {
     "data": {
      "text/html": [
       "<div>\n",
       "<style scoped>\n",
       "    .dataframe tbody tr th:only-of-type {\n",
       "        vertical-align: middle;\n",
       "    }\n",
       "\n",
       "    .dataframe tbody tr th {\n",
       "        vertical-align: top;\n",
       "    }\n",
       "\n",
       "    .dataframe thead th {\n",
       "        text-align: right;\n",
       "    }\n",
       "</style>\n",
       "<table border=\"1\" class=\"dataframe\">\n",
       "  <thead>\n",
       "    <tr style=\"text-align: right;\">\n",
       "      <th></th>\n",
       "      <th>age</th>\n",
       "      <th>hypertension</th>\n",
       "      <th>heart_disease</th>\n",
       "      <th>avg_glucose_level</th>\n",
       "      <th>bmi</th>\n",
       "    </tr>\n",
       "  </thead>\n",
       "  <tbody>\n",
       "    <tr>\n",
       "      <th>8429</th>\n",
       "      <td>48.357988</td>\n",
       "      <td>0</td>\n",
       "      <td>0</td>\n",
       "      <td>76.128550</td>\n",
       "      <td>30.122078</td>\n",
       "    </tr>\n",
       "    <tr>\n",
       "      <th>8211</th>\n",
       "      <td>52.808742</td>\n",
       "      <td>0</td>\n",
       "      <td>0</td>\n",
       "      <td>164.195815</td>\n",
       "      <td>28.316886</td>\n",
       "    </tr>\n",
       "    <tr>\n",
       "      <th>368</th>\n",
       "      <td>44.000000</td>\n",
       "      <td>0</td>\n",
       "      <td>0</td>\n",
       "      <td>107.410000</td>\n",
       "      <td>47.300000</td>\n",
       "    </tr>\n",
       "    <tr>\n",
       "      <th>3216</th>\n",
       "      <td>52.000000</td>\n",
       "      <td>1</td>\n",
       "      <td>0</td>\n",
       "      <td>104.450000</td>\n",
       "      <td>28.893237</td>\n",
       "    </tr>\n",
       "    <tr>\n",
       "      <th>7767</th>\n",
       "      <td>65.936643</td>\n",
       "      <td>0</td>\n",
       "      <td>0</td>\n",
       "      <td>69.305761</td>\n",
       "      <td>30.744690</td>\n",
       "    </tr>\n",
       "    <tr>\n",
       "      <th>...</th>\n",
       "      <td>...</td>\n",
       "      <td>...</td>\n",
       "      <td>...</td>\n",
       "      <td>...</td>\n",
       "      <td>...</td>\n",
       "    </tr>\n",
       "    <tr>\n",
       "      <th>2895</th>\n",
       "      <td>46.000000</td>\n",
       "      <td>0</td>\n",
       "      <td>0</td>\n",
       "      <td>137.770000</td>\n",
       "      <td>29.300000</td>\n",
       "    </tr>\n",
       "    <tr>\n",
       "      <th>7813</th>\n",
       "      <td>64.105577</td>\n",
       "      <td>0</td>\n",
       "      <td>0</td>\n",
       "      <td>73.501378</td>\n",
       "      <td>28.809844</td>\n",
       "    </tr>\n",
       "    <tr>\n",
       "      <th>905</th>\n",
       "      <td>31.000000</td>\n",
       "      <td>0</td>\n",
       "      <td>0</td>\n",
       "      <td>76.260000</td>\n",
       "      <td>35.600000</td>\n",
       "    </tr>\n",
       "    <tr>\n",
       "      <th>5192</th>\n",
       "      <td>79.000000</td>\n",
       "      <td>0</td>\n",
       "      <td>0</td>\n",
       "      <td>171.017322</td>\n",
       "      <td>27.411717</td>\n",
       "    </tr>\n",
       "    <tr>\n",
       "      <th>235</th>\n",
       "      <td>68.000000</td>\n",
       "      <td>0</td>\n",
       "      <td>0</td>\n",
       "      <td>211.060000</td>\n",
       "      <td>39.300000</td>\n",
       "    </tr>\n",
       "  </tbody>\n",
       "</table>\n",
       "<p>7733 rows × 5 columns</p>\n",
       "</div>"
      ],
      "text/plain": [
       "            age  hypertension  heart_disease  avg_glucose_level        bmi\n",
       "8429  48.357988             0              0          76.128550  30.122078\n",
       "8211  52.808742             0              0         164.195815  28.316886\n",
       "368   44.000000             0              0         107.410000  47.300000\n",
       "3216  52.000000             1              0         104.450000  28.893237\n",
       "7767  65.936643             0              0          69.305761  30.744690\n",
       "...         ...           ...            ...                ...        ...\n",
       "2895  46.000000             0              0         137.770000  29.300000\n",
       "7813  64.105577             0              0          73.501378  28.809844\n",
       "905   31.000000             0              0          76.260000  35.600000\n",
       "5192  79.000000             0              0         171.017322  27.411717\n",
       "235   68.000000             0              0         211.060000  39.300000\n",
       "\n",
       "[7733 rows x 5 columns]"
      ]
     },
     "execution_count": 32,
     "metadata": {},
     "output_type": "execute_result"
    }
   ],
   "source": [
    "X_train.iloc[:,0:5]"
   ]
  },
  {
   "cell_type": "code",
   "execution_count": 33,
   "metadata": {},
   "outputs": [
    {
     "name": "stdout",
     "output_type": "stream",
     "text": [
      "           age  hypertension  heart_disease  avg_glucose_level       bmi  \\\n",
      "8429 -0.285169     -0.312752      -0.224168          -0.758136  0.095473   \n",
      "8211 -0.081909     -0.312752      -0.224168           0.852696 -0.179067   \n",
      "368  -0.484192     -0.312752      -0.224168          -0.185969  2.707952   \n",
      "3216 -0.118843      3.197423      -0.224168          -0.240110 -0.091413   \n",
      "7767  0.517625     -0.312752      -0.224168          -0.882931  0.190162   \n",
      "...        ...           ...            ...                ...       ...   \n",
      "2895 -0.392855     -0.312752      -0.224168           0.369343 -0.029551   \n",
      "7813  0.434002     -0.312752      -0.224168          -0.806190 -0.104096   \n",
      "905  -1.077885     -0.312752      -0.224168          -0.755732  0.928575   \n",
      "5192  1.114211     -0.312752      -0.224168           0.977468 -0.316728   \n",
      "235   0.611855     -0.312752      -0.224168           1.709886  1.491284   \n",
      "\n",
      "             0         1    2         3         4  ...    6         7  \\\n",
      "8429  0.705251  0.294749  0.0  0.000000  1.000000  ...  0.0  1.000000   \n",
      "8211  1.000000  0.000000  0.0  0.000000  1.000000  ...  0.0  0.638252   \n",
      "368   1.000000  0.000000  0.0  0.000000  1.000000  ...  0.0  1.000000   \n",
      "3216  1.000000  0.000000  0.0  0.000000  1.000000  ...  0.0  0.000000   \n",
      "7767  0.234161  0.765839  0.0  0.234161  0.765839  ...  0.0  0.000000   \n",
      "...        ...       ...  ...       ...       ...  ...  ...       ...   \n",
      "2895  0.000000  1.000000  0.0  0.000000  1.000000  ...  0.0  1.000000   \n",
      "7813  0.000000  1.000000  0.0  0.000000  1.000000  ...  0.0  0.000000   \n",
      "905   1.000000  0.000000  0.0  0.000000  1.000000  ...  0.0  1.000000   \n",
      "5192  1.000000  0.000000  0.0  0.000000  1.000000  ...  0.0  0.697231   \n",
      "235   1.000000  0.000000  0.0  0.000000  1.000000  ...  0.0  1.000000   \n",
      "\n",
      "             8    9        10        11        12        13        14   15  \n",
      "8429  0.000000  0.0  0.000000  1.000000  0.000000  0.000000  1.000000  0.0  \n",
      "8211  0.000000  0.0  0.361748  0.638252  0.361748  0.000000  0.638252  0.0  \n",
      "368   0.000000  0.0  1.000000  0.000000  0.000000  0.000000  1.000000  0.0  \n",
      "3216  1.000000  0.0  1.000000  0.000000  0.000000  0.000000  1.000000  0.0  \n",
      "7767  1.000000  0.0  0.000000  1.000000  0.000000  0.765839  0.234161  0.0  \n",
      "...        ...  ...       ...       ...       ...       ...       ...  ...  \n",
      "2895  0.000000  0.0  0.000000  1.000000  0.000000  0.000000  1.000000  0.0  \n",
      "7813  0.105577  0.0  0.000000  1.000000  0.894423  0.105577  0.000000  0.0  \n",
      "905   0.000000  0.0  1.000000  0.000000  0.000000  0.000000  1.000000  0.0  \n",
      "5192  0.302769  0.0  1.000000  0.000000  0.697231  0.000000  0.302769  0.0  \n",
      "235   0.000000  0.0  1.000000  0.000000  1.000000  0.000000  0.000000  0.0  \n",
      "\n",
      "[7733 rows x 21 columns]            age  hypertension  heart_disease  avg_glucose_level       bmi  \\\n",
      "2201  0.657524     -0.312752       4.460942           1.440461 -0.637885   \n",
      "1814 -0.210180     -0.312752      -0.224168          -0.536606  0.472324   \n",
      "2917 -1.671578     -0.312752      -0.224168          -0.644157 -1.033302   \n",
      "2856 -1.854252     -0.312752      -0.224168          -1.034120 -1.808928   \n",
      "6779  1.078833     -0.312752      -0.224168          -0.360702 -1.119197   \n",
      "...        ...           ...            ...                ...       ...   \n",
      "4536  0.611855      3.197423      -0.224168           0.606577  1.643367   \n",
      "7362  0.325275     -0.312752      -0.224168          -0.972293 -0.154974   \n",
      "8425  1.098948     -0.312752      -0.224168           1.823968 -0.433386   \n",
      "7763  0.755125     -0.312752      -0.224168          -0.842562  0.916059   \n",
      "6443  0.306477      3.197423      -0.224168           1.140156 -0.238663   \n",
      "\n",
      "             0         1    2         3         4  ...    6         7  \\\n",
      "2201  1.000000  0.000000  0.0  0.000000  1.000000  ...  0.0  1.000000   \n",
      "1814  0.000000  1.000000  0.0  0.000000  1.000000  ...  0.0  0.000000   \n",
      "2917  1.000000  0.000000  0.0  1.000000  0.000000  ...  1.0  0.000000   \n",
      "2856  0.000000  1.000000  0.0  1.000000  0.000000  ...  0.0  1.000000   \n",
      "6779  0.845070  0.154930  0.0  0.000000  1.000000  ...  0.0  1.000000   \n",
      "...        ...       ...  ...       ...       ...  ...  ...       ...   \n",
      "4536  1.000000  0.000000  0.0  0.000000  1.000000  ...  0.0  1.000000   \n",
      "7362  0.467887  0.532113  0.0  0.000000  1.000000  ...  0.0  0.467887   \n",
      "8425  0.000000  1.000000  0.0  0.000000  1.000000  ...  0.0  0.221929   \n",
      "7763  1.000000  0.000000  0.0  0.465709  0.534291  ...  0.0  0.000000   \n",
      "6443  1.000000  0.000000  0.0  0.000000  1.000000  ...  0.0  0.562551   \n",
      "\n",
      "             8    9        10        11       12        13        14       15  \n",
      "2201  0.000000  0.0  0.000000  1.000000  0.00000  0.000000  1.000000  0.00000  \n",
      "1814  0.000000  0.0  0.000000  1.000000  1.00000  0.000000  0.000000  0.00000  \n",
      "2917  0.000000  0.0  0.000000  1.000000  1.00000  0.000000  0.000000  0.00000  \n",
      "2856  0.000000  0.0  1.000000  0.000000  1.00000  0.000000  0.000000  0.00000  \n",
      "6779  0.000000  0.0  0.000000  1.000000  0.15493  0.000000  0.000000  0.84507  \n",
      "...        ...  ...       ...       ...      ...       ...       ...      ...  \n",
      "4536  0.000000  0.0  0.000000  1.000000  1.00000  0.000000  0.000000  0.00000  \n",
      "7362  0.532113  0.0  0.467887  0.532113  0.00000  1.000000  0.000000  0.00000  \n",
      "8425  0.778071  0.0  0.000000  1.000000  1.00000  0.000000  0.000000  0.00000  \n",
      "7763  1.000000  0.0  0.000000  1.000000  0.00000  0.000000  1.000000  0.00000  \n",
      "6443  0.000000  0.0  0.562551  0.437449  0.00000  0.562551  0.437449  0.00000  \n",
      "\n",
      "[1934 rows x 21 columns]\n"
     ]
    },
    {
     "name": "stderr",
     "output_type": "stream",
     "text": [
      "C:\\Anaconda3\\envs\\tensorflow_en\\lib\\site-packages\\pandas\\core\\indexing.py:966: SettingWithCopyWarning: \n",
      "A value is trying to be set on a copy of a slice from a DataFrame.\n",
      "Try using .loc[row_indexer,col_indexer] = value instead\n",
      "\n",
      "See the caveats in the documentation: https://pandas.pydata.org/pandas-docs/stable/user_guide/indexing.html#returning-a-view-versus-a-copy\n",
      "  self.obj[item] = s\n",
      "C:\\Anaconda3\\envs\\tensorflow_en\\lib\\site-packages\\pandas\\core\\indexing.py:966: SettingWithCopyWarning: \n",
      "A value is trying to be set on a copy of a slice from a DataFrame.\n",
      "Try using .loc[row_indexer,col_indexer] = value instead\n",
      "\n",
      "See the caveats in the documentation: https://pandas.pydata.org/pandas-docs/stable/user_guide/indexing.html#returning-a-view-versus-a-copy\n",
      "  self.obj[item] = s\n"
     ]
    }
   ],
   "source": [
    "from sklearn.preprocessing import StandardScaler\n",
    "sc = StandardScaler()\n",
    "X_train.iloc[:,0:5] = sc.fit_transform(X_train.iloc[:,0:5])\n",
    "X_test.iloc[:,0:5] = sc.transform(X_test.iloc[:,0:5])\n",
    "print(X_train,X_test)"
   ]
  },
  {
   "cell_type": "code",
   "execution_count": null,
   "metadata": {},
   "outputs": [],
   "source": []
  },
  {
   "cell_type": "markdown",
   "metadata": {},
   "source": [
    "# Models\n"
   ]
  },
  {
   "cell_type": "markdown",
   "metadata": {},
   "source": [
    "## Classifiers"
   ]
  },
  {
   "cell_type": "code",
   "execution_count": 36,
   "metadata": {},
   "outputs": [
    {
     "name": "stdout",
     "output_type": "stream",
     "text": [
      "[[800 176]\n",
      " [131 827]] Nodes:  10 0.8412616339193382\n",
      "[[930  46]\n",
      " [149 809]] Nodes:  25 0.8991726990692864\n",
      "[[952  24]\n",
      " [107 851]] Nodes:  50 0.9322647362978284\n",
      "[[954  22]\n",
      " [ 82 876]] Nodes:  100 0.9462254395036195\n",
      "[[937  39]\n",
      " [ 53 905]] Nodes:  300 0.9524301964839711\n"
     ]
    },
    {
     "data": {
      "text/plain": [
       "<matplotlib.axes._subplots.AxesSubplot at 0x1d54f3c6888>"
      ]
     },
     "execution_count": 36,
     "metadata": {},
     "output_type": "execute_result"
    },
    {
     "data": {
      "image/png": "[encoded data removed]",
      "text/plain": [
       "<Figure size 432x288 with 1 Axes>"
      ]
     },
     "metadata": {
      "needs_background": "light"
     },
     "output_type": "display_data"
    }
   ],
   "source": [
    "from sklearn.tree import DecisionTreeClassifier\n",
    "from sklearn.metrics import accuracy_score,mean_absolute_error,confusion_matrix\n",
    "nodes = [10,25,50,100,300]\n",
    "accuracy =[]\n",
    "for node in nodes:    \n",
    "    model = DecisionTreeClassifier(random_state=1,max_leaf_nodes=node)\n",
    "    model.fit(X_train,Y_train)\n",
    "    preds = model.predict(X_test)\n",
    "    accs = accuracy_score(Y_test,preds.round())\n",
    "    accuracy.append(accs)\n",
    "    print(confusion_matrix(Y_test,preds.round()),'Nodes: ', node,accs)\n",
    "# print(accuracy)\n",
    "sns.lineplot(x=nodes,y=accuracy)"
   ]
  },
  {
   "cell_type": "code",
   "execution_count": 37,
   "metadata": {},
   "outputs": [
    {
     "name": "stdout",
     "output_type": "stream",
     "text": [
      "[[963  13]\n",
      " [ 47 911]] No of Estimators:  10 0.9689762150982419\n",
      "[[962  14]\n",
      " [ 45 913]] No of Estimators:  15 0.9694932781799379\n",
      "[[964  12]\n",
      " [ 46 912]] No of Estimators:  20 0.9700103412616339\n",
      "[[966  10]\n",
      " [ 46 912]] No of Estimators:  25 0.9710444674250258\n",
      "[[966  10]\n",
      " [ 47 911]] No of Estimators:  50 0.9705274043433298\n",
      "[[966  10]\n",
      " [ 47 911]] No of Estimators:  100 0.9705274043433298\n",
      "[[966  10]\n",
      " [ 47 911]] No of Estimators:  200 0.9705274043433298\n"
     ]
    },
    {
     "data": {
      "text/plain": [
       "<matplotlib.axes._subplots.AxesSubplot at 0x1d54e6f3548>"
      ]
     },
     "execution_count": 37,
     "metadata": {},
     "output_type": "execute_result"
    },
    {
     "data": {
      "image/png": "[encoded data removed]",
      "text/plain": [
       "<Figure size 432x288 with 1 Axes>"
      ]
     },
     "metadata": {
      "needs_background": "light"
     },
     "output_type": "display_data"
    }
   ],
   "source": [
    "from sklearn.ensemble import RandomForestClassifier\n",
    "from sklearn.metrics import accuracy_score,mean_absolute_error\n",
    "nodes = [10,15,20,25,50,100,200]\n",
    "accuracy =[]\n",
    "for node in nodes:    \n",
    "    model = RandomForestClassifier(criterion = 'entropy', random_state=0, n_estimators=node)\n",
    "    model.fit(X_train,Y_train.values.ravel())\n",
    "    preds = model.predict(X_test)\n",
    "    accs = accuracy_score(Y_test,preds.round())\n",
    "    accuracy.append(accs)\n",
    "    print(confusion_matrix(Y_test,preds.round()),'No of Estimators: ', node,accs)\n",
    "\n",
    "sns.lineplot(x=nodes,y=accuracy)"
   ]
  },
  {
   "cell_type": "code",
   "execution_count": 38,
   "metadata": {},
   "outputs": [
    {
     "name": "stdout",
     "output_type": "stream",
     "text": [
      "[[813 163]\n",
      " [ 10 948]] No of Neighbors:  5 0.9105480868665977\n",
      "[[796 180]\n",
      " [ 20 938]] No of Neighbors:  10 0.8965873836608066\n",
      "[[730 246]\n",
      " [ 25 933]] No of Neighbors:  15 0.859875904860393\n",
      "[[714 262]\n",
      " [ 31 927]] No of Neighbors:  20 0.8485005170630817\n",
      "[[685 291]\n",
      " [ 28 930]] No of Neighbors:  25 0.8350568769389866\n",
      "[[672 304]\n",
      " [ 51 907]] No of Neighbors:  50 0.8164426059979317\n",
      "[[599 377]\n",
      " [ 53 905]] No of Neighbors:  100 0.7776628748707343\n"
     ]
    },
    {
     "data": {
      "text/plain": [
       "<matplotlib.axes._subplots.AxesSubplot at 0x1d54f07fa48>"
      ]
     },
     "execution_count": 38,
     "metadata": {},
     "output_type": "execute_result"
    },
    {
     "data": {
      "image/png": "[encoded data removed]",
      "text/plain": [
       "<Figure size 432x288 with 1 Axes>"
      ]
     },
     "metadata": {
      "needs_background": "light"
     },
     "output_type": "display_data"
    }
   ],
   "source": [
    "from sklearn.neighbors import KNeighborsClassifier\n",
    "from sklearn.metrics import accuracy_score,mean_absolute_error\n",
    "nodes = [5,10,15,20,25,50,100]\n",
    "accuracy =[]\n",
    "for node in nodes:    \n",
    "    classifier = KNeighborsClassifier(n_neighbors = node, metric = 'minkowski',p=2)\n",
    "    classifier.fit(X_train,Y_train.values.ravel())\n",
    "    preds = classifier.predict(X_test)\n",
    "    accs = accuracy_score(Y_test,preds.round())\n",
    "    accuracy.append(accs)\n",
    "    print(confusion_matrix(Y_test,preds),'No of Neighbors: ', node,accs)\n",
    "\n",
    "sns.lineplot(x=nodes,y=accuracy)\n",
    "\n"
   ]
  },
  {
   "cell_type": "code",
   "execution_count": 39,
   "metadata": {},
   "outputs": [
    {
     "name": "stdout",
     "output_type": "stream",
     "text": [
      "Train on 7733 samples\n",
      "Epoch 1/100\n",
      "7733/7733 [==============================] - 1s 93us/sample - loss: 0.3426\n",
      "Epoch 2/100\n",
      "7733/7733 [==============================] - 0s 41us/sample - loss: 0.1834\n",
      "Epoch 3/100\n",
      "7733/7733 [==============================] - 0s 43us/sample - loss: 0.1633\n",
      "Epoch 4/100\n",
      "7733/7733 [==============================] - 0s 44us/sample - loss: 0.1571\n",
      "Epoch 5/100\n",
      "7733/7733 [==============================] - 0s 42us/sample - loss: 0.1537\n",
      "Epoch 6/100\n",
      "7733/7733 [==============================] - 0s 43us/sample - loss: 0.1519\n",
      "Epoch 7/100\n",
      "7733/7733 [==============================] - 0s 43us/sample - loss: 0.1504\n",
      "Epoch 8/100\n",
      "7733/7733 [==============================] - 0s 41us/sample - loss: 0.1490\n",
      "Epoch 9/100\n",
      "7733/7733 [==============================] - 0s 44us/sample - loss: 0.1471\n",
      "Epoch 10/100\n",
      "7733/7733 [==============================] - 0s 44us/sample - loss: 0.1457\n",
      "Epoch 11/100\n",
      "7733/7733 [==============================] - 0s 43us/sample - loss: 0.1438\n",
      "Epoch 12/100\n",
      "7733/7733 [==============================] - 0s 42us/sample - loss: 0.1420\n",
      "Epoch 13/100\n",
      "7733/7733 [==============================] - 0s 41us/sample - loss: 0.1400\n",
      "Epoch 14/100\n",
      "7733/7733 [==============================] - 0s 49us/sample - loss: 0.1375\n",
      "Epoch 15/100\n",
      "7733/7733 [==============================] - 0s 43us/sample - loss: 0.1352\n",
      "Epoch 16/100\n",
      "7733/7733 [==============================] - 0s 39us/sample - loss: 0.1331\n",
      "Epoch 17/100\n",
      "7733/7733 [==============================] - 0s 41us/sample - loss: 0.1316\n",
      "Epoch 18/100\n",
      "7733/7733 [==============================] - 0s 41us/sample - loss: 0.1298\n",
      "Epoch 19/100\n",
      "7733/7733 [==============================] - 0s 43us/sample - loss: 0.1279\n",
      "Epoch 20/100\n",
      "7733/7733 [==============================] - 0s 43us/sample - loss: 0.1262\n",
      "Epoch 21/100\n",
      "7733/7733 [==============================] - 0s 43us/sample - loss: 0.1248\n",
      "Epoch 22/100\n",
      "7733/7733 [==============================] - 0s 43us/sample - loss: 0.1239\n",
      "Epoch 23/100\n",
      "7733/7733 [==============================] - 0s 44us/sample - loss: 0.1224\n",
      "Epoch 24/100\n",
      "7733/7733 [==============================] - 0s 42us/sample - loss: 0.1215\n",
      "Epoch 25/100\n",
      "7733/7733 [==============================] - 0s 42us/sample - loss: 0.1204\n",
      "Epoch 26/100\n",
      "7733/7733 [==============================] - 0s 45us/sample - loss: 0.1204\n",
      "Epoch 27/100\n",
      "7733/7733 [==============================] - 0s 43us/sample - loss: 0.1197\n",
      "Epoch 28/100\n",
      "7733/7733 [==============================] - 0s 44us/sample - loss: 0.1192\n",
      "Epoch 29/100\n",
      "7733/7733 [==============================] - 0s 44us/sample - loss: 0.1182\n",
      "Epoch 30/100\n",
      "7733/7733 [==============================] - 0s 44us/sample - loss: 0.1183\n",
      "Epoch 31/100\n",
      "7733/7733 [==============================] - 0s 42us/sample - loss: 0.1174\n",
      "Epoch 32/100\n",
      "7733/7733 [==============================] - 0s 44us/sample - loss: 0.1170\n",
      "Epoch 33/100\n",
      "7733/7733 [==============================] - 0s 43us/sample - loss: 0.1166\n",
      "Epoch 34/100\n",
      "7733/7733 [==============================] - 0s 43us/sample - loss: 0.1164\n",
      "Epoch 35/100\n",
      "7733/7733 [==============================] - 0s 42us/sample - loss: 0.1163\n",
      "Epoch 36/100\n",
      "7733/7733 [==============================] - 0s 44us/sample - loss: 0.1157\n",
      "Epoch 37/100\n",
      "7733/7733 [==============================] - 0s 41us/sample - loss: 0.1152\n",
      "Epoch 38/100\n",
      "7733/7733 [==============================] - 0s 43us/sample - loss: 0.1151\n",
      "Epoch 39/100\n",
      "7733/7733 [==============================] - 0s 47us/sample - loss: 0.1150\n",
      "Epoch 40/100\n",
      "7733/7733 [==============================] - 0s 43us/sample - loss: 0.1148\n",
      "Epoch 41/100\n",
      "7733/7733 [==============================] - 0s 48us/sample - loss: 0.1141\n",
      "Epoch 42/100\n",
      "7733/7733 [==============================] - 0s 45us/sample - loss: 0.1143\n",
      "Epoch 43/100\n",
      "7733/7733 [==============================] - 0s 44us/sample - loss: 0.1134\n",
      "Epoch 44/100\n",
      "7733/7733 [==============================] - 0s 43us/sample - loss: 0.1135\n",
      "Epoch 45/100\n",
      "7733/7733 [==============================] - 0s 42us/sample - loss: 0.1134\n",
      "Epoch 46/100\n",
      "7733/7733 [==============================] - 0s 42us/sample - loss: 0.1128\n",
      "Epoch 47/100\n",
      "7733/7733 [==============================] - 0s 44us/sample - loss: 0.1124\n",
      "Epoch 48/100\n",
      "7733/7733 [==============================] - 0s 43us/sample - loss: 0.1128\n",
      "Epoch 49/100\n",
      "7733/7733 [==============================] - 0s 43us/sample - loss: 0.1123\n",
      "Epoch 50/100\n",
      "7733/7733 [==============================] - 0s 44us/sample - loss: 0.1118\n",
      "Epoch 51/100\n",
      "7733/7733 [==============================] - 0s 48us/sample - loss: 0.1116\n",
      "Epoch 52/100\n",
      "7733/7733 [==============================] - 0s 42us/sample - loss: 0.1115\n",
      "Epoch 53/100\n",
      "7733/7733 [==============================] - 0s 43us/sample - loss: 0.1117\n",
      "Epoch 54/100\n",
      "7733/7733 [==============================] - 0s 43us/sample - loss: 0.1112\n",
      "Epoch 55/100\n",
      "7733/7733 [==============================] - 0s 43us/sample - loss: 0.1110\n",
      "Epoch 56/100\n",
      "7733/7733 [==============================] - 0s 36us/sample - loss: 0.1106\n",
      "Epoch 57/100\n",
      "7733/7733 [==============================] - 0s 42us/sample - loss: 0.1109\n",
      "Epoch 58/100\n",
      "7733/7733 [==============================] - 0s 42us/sample - loss: 0.1107\n",
      "Epoch 59/100\n",
      "7733/7733 [==============================] - 0s 45us/sample - loss: 0.1099\n",
      "Epoch 60/100\n",
      "7733/7733 [==============================] - 0s 44us/sample - loss: 0.1102\n",
      "Epoch 61/100\n",
      "7733/7733 [==============================] - 0s 44us/sample - loss: 0.1099\n",
      "Epoch 62/100\n",
      "7733/7733 [==============================] - 0s 45us/sample - loss: 0.1097\n",
      "Epoch 63/100\n",
      "7733/7733 [==============================] - 0s 42us/sample - loss: 0.1091\n",
      "Epoch 64/100\n",
      "7733/7733 [==============================] - 0s 45us/sample - loss: 0.1093\n",
      "Epoch 65/100\n",
      "7733/7733 [==============================] - 0s 43us/sample - loss: 0.1092\n",
      "Epoch 66/100\n",
      "7733/7733 [==============================] - 0s 43us/sample - loss: 0.1092\n",
      "Epoch 67/100\n",
      "7733/7733 [==============================] - 0s 44us/sample - loss: 0.1089\n",
      "Epoch 68/100\n",
      "7733/7733 [==============================] - 0s 45us/sample - loss: 0.1089\n",
      "Epoch 69/100\n",
      "7733/7733 [==============================] - 0s 43us/sample - loss: 0.1083\n",
      "Epoch 70/100\n",
      "7733/7733 [==============================] - 0s 45us/sample - loss: 0.1084\n",
      "Epoch 71/100\n",
      "7733/7733 [==============================] - 0s 44us/sample - loss: 0.1080\n",
      "Epoch 72/100\n",
      "7733/7733 [==============================] - 0s 43us/sample - loss: 0.1080\n",
      "Epoch 73/100\n",
      "7733/7733 [==============================] - 0s 46us/sample - loss: 0.1084\n",
      "Epoch 74/100\n",
      "7733/7733 [==============================] - 0s 43us/sample - loss: 0.1080\n",
      "Epoch 75/100\n",
      "7733/7733 [==============================] - 0s 42us/sample - loss: 0.1080\n",
      "Epoch 76/100\n",
      "7733/7733 [==============================] - 0s 44us/sample - loss: 0.1068\n",
      "Epoch 77/100\n",
      "7733/7733 [==============================] - 0s 43us/sample - loss: 0.1069\n",
      "Epoch 78/100\n",
      "7733/7733 [==============================] - 0s 42us/sample - loss: 0.1069\n",
      "Epoch 79/100\n",
      "7733/7733 [==============================] - 0s 43us/sample - loss: 0.1068\n",
      "Epoch 80/100\n",
      "7733/7733 [==============================] - 0s 43us/sample - loss: 0.1067\n",
      "Epoch 81/100\n",
      "7733/7733 [==============================] - 0s 43us/sample - loss: 0.1066\n",
      "Epoch 82/100\n",
      "7733/7733 [==============================] - 0s 43us/sample - loss: 0.1065\n",
      "Epoch 83/100\n",
      "7733/7733 [==============================] - 0s 43us/sample - loss: 0.1070\n",
      "Epoch 84/100\n",
      "7733/7733 [==============================] - 0s 43us/sample - loss: 0.1060\n",
      "Epoch 85/100\n",
      "7733/7733 [==============================] - 0s 43us/sample - loss: 0.1063\n",
      "Epoch 86/100\n",
      "7733/7733 [==============================] - 0s 43us/sample - loss: 0.1061\n",
      "Epoch 87/100\n",
      "7733/7733 [==============================] - 0s 42us/sample - loss: 0.1056\n",
      "Epoch 88/100\n",
      "7733/7733 [==============================] - 0s 41us/sample - loss: 0.1056\n",
      "Epoch 89/100\n",
      "7733/7733 [==============================] - 0s 45us/sample - loss: 0.1055\n",
      "Epoch 90/100\n",
      "7733/7733 [==============================] - 0s 41us/sample - loss: 0.1052\n",
      "Epoch 91/100\n",
      "7733/7733 [==============================] - 0s 43us/sample - loss: 0.1052\n",
      "Epoch 92/100\n",
      "7733/7733 [==============================] - 0s 42us/sample - loss: 0.1056\n",
      "Epoch 93/100\n",
      "7733/7733 [==============================] - 0s 42us/sample - loss: 0.1053\n"
     ]
    },
    {
     "name": "stdout",
     "output_type": "stream",
     "text": [
      "Epoch 94/100\n",
      "7733/7733 [==============================] - 0s 43us/sample - loss: 0.1047\n",
      "Epoch 95/100\n",
      "7733/7733 [==============================] - 0s 43us/sample - loss: 0.1042\n",
      "Epoch 96/100\n",
      "7733/7733 [==============================] - 0s 42us/sample - loss: 0.1042\n",
      "Epoch 97/100\n",
      "7733/7733 [==============================] - 0s 42us/sample - loss: 0.1042\n",
      "Epoch 98/100\n",
      "7733/7733 [==============================] - 0s 43us/sample - loss: 0.1042\n",
      "Epoch 99/100\n",
      "7733/7733 [==============================] - 0s 43us/sample - loss: 0.1041\n",
      "Epoch 100/100\n",
      "7733/7733 [==============================] - 0s 43us/sample - loss: 0.1038\n",
      "[[844 132]\n",
      " [157 801]] 0.8505687693898656\n"
     ]
    }
   ],
   "source": [
    "import tensorflow as tf\n",
    "\n",
    "ann = tf.keras.models.Sequential()\n",
    "ann.add(tf.keras.layers.Dense(units = 6, activation = 'relu'))\n",
    "ann.add(tf.keras.layers.Dense(units = 6, activation = 'relu'))\n",
    "ann.add(tf.keras.layers.Dense(units=1))\n",
    "ann.compile(loss = 'mean_squared_error' , optimizer = 'adam')\n",
    "ann.fit(X_train.values, Y_train.values, batch_size = 32, epochs = 100)\n",
    "y_pred = ann.predict(X_test.values)\n",
    "accs = accuracy_score(Y_test,y_pred.round())\n",
    "print(confusion_matrix(Y_test,y_pred.round()),accs)"
   ]
  },
  {
   "cell_type": "code",
   "execution_count": 73,
   "metadata": {},
   "outputs": [
    {
     "name": "stderr",
     "output_type": "stream",
     "text": [
      "C:\\Anaconda3\\envs\\tensorflow_en\\lib\\site-packages\\xgboost\\sklearn.py:888: UserWarning: The use of label encoder in XGBClassifier is deprecated and will be removed in a future release. To remove this warning, do the following: 1) Pass option use_label_encoder=False when constructing XGBClassifier object; and 2) Encode your labels (y) as integers starting with 0, i.e. 0, 1, 2, ..., [num_class - 1].\n",
      "  warnings.warn(label_encoder_deprecation_msg, UserWarning)\n"
     ]
    },
    {
     "name": "stdout",
     "output_type": "stream",
     "text": [
      "[17:34:57] WARNING: C:/Users/Administrator/workspace/xgboost-win64_release_1.3.0/src/learner.cc:1061: Starting in XGBoost 1.3.0, the default evaluation metric used with the objective 'binary:logistic' was changed from 'error' to 'logloss'. Explicitly set eval_metric if you'd like to restore the old behavior.\n",
      "[[963  13]\n",
      " [ 47 911]]\n"
     ]
    },
    {
     "data": {
      "text/plain": [
       "0.9689762150982419"
      ]
     },
     "execution_count": 73,
     "metadata": {},
     "output_type": "execute_result"
    }
   ],
   "source": [
    "from xgboost import XGBClassifier   #XGBoostClassifier\n",
    "classifier = XGBClassifier(max_depth=6)\n",
    "classifier.fit(X_train, Y_train)\n",
    "y_pred = classifier.predict(X_test)\n",
    "from sklearn.metrics import confusion_matrix, accuracy_score\n",
    "cm = confusion_matrix(Y_test, y_pred)\n",
    "print(cm)\n",
    "accuracy_score(Y_test, y_pred)"
   ]
  },
  {
   "cell_type": "code",
   "execution_count": null,
   "metadata": {},
   "outputs": [],
   "source": []
  }
 ],
 "metadata": {
  "kernelspec": {
   "display_name": "Python 3",
   "language": "python",
   "name": "python3"
  },
  "language_info": {
   "codemirror_mode": {
    "name": "ipython",
    "version": 3
   },
   "file_extension": ".py",
   "mimetype": "text/x-python",
   "name": "python",
   "nbconvert_exporter": "python",
   "pygments_lexer": "ipython3",
   "version": "3.7.7"
  }
 },
 "nbformat": 4,
 "nbformat_minor": 4
}
